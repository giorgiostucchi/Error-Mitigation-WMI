{
 "cells": [
  {
   "cell_type": "markdown",
   "id": "aa36350a",
   "metadata": {},
   "source": [
    "# Digital dynamical decoupling (DDD) with Qiskit on GHZ Circuits\n",
    "\n",
    "In this notebook DDD is applied to improve the success rate of the computation on a real hardware backend. \n",
    "A similar approach can be taken on a simulated backend, by setting the ``USE_REAL_HARDWARE`` option to ``False``\n",
    "and specifying a simulated backend from `qiskit.providers.fake_provider`, which includes a noise model that approximates the noise of the\n",
    "real device.\n",
    "\n",
    "In DDD, sequences of gates are applied to slack windows, i.e. single-qubit idle windows, in a quantum circuit. \n",
    "Applying such sequences can reduce the coupling between the qubits and the environment, mitigating the effects of noise.\n",
    "While the DDD module includes some built-in sequences, the user may choose to define others best suited to their application.\n",
    "For more information on DDD, see the section [DDD section of the user guide](../guide/ddd.md)."
   ]
  },
  {
   "cell_type": "markdown",
   "id": "b41b56cc",
   "metadata": {},
   "source": [
    "## Setup\n",
    "\n",
    "We begin by importing the relevant modules and libraries that we will require\n",
    "for the rest of this tutorial."
   ]
  },
  {
   "cell_type": "code",
   "execution_count": 417,
   "id": "ace1fb31",
   "metadata": {},
   "outputs": [],
   "source": [
    "from typing import List, Callable\n",
    "import numpy as np\n",
    "from matplotlib import pyplot as plt\n",
    "\n",
    "import qiskit\n",
    "from qiskit_aer import AerSimulator\n",
    "from qiskit_ibm_runtime import QiskitRuntimeService\n",
    "\n",
    "from mitiq.interface.mitiq_qiskit import to_qiskit\n",
    "from mitiq import ddd, QPROGRAM\n",
    "from mitiq.ddd import insert_ddd_sequences"
   ]
  },
  {
   "cell_type": "markdown",
   "id": "d3999818",
   "metadata": {},
   "source": [
    "## Define DDD rules\n",
    "We now use Mitiq's DDD _rule_, i. e., a function that generates DDD sequences of different length.\n",
    "In this example, we test the performance of repeated I (default built into `get_circuit` below) and repeated IXIX, repeated XX, and XX sequences from Mitiq."
   ]
  },
  {
   "cell_type": "code",
   "execution_count": 418,
   "id": "67dd03be",
   "metadata": {},
   "outputs": [
    {
     "name": "stdout",
     "output_type": "stream",
     "text": [
      "0: ───I───I───X───I───X───I───X───I───X───I───\n",
      "0: ───X───X───X───X───X───X───X───X───X───X───\n",
      "0: ───I───I───I───X───I───I───X───I───I───I───\n"
     ]
    }
   ],
   "source": [
    "import cirq\n",
    "\n",
    "def rep_ixix_rule(window_length: int) -> Callable[[int], QPROGRAM]:\n",
    "    return ddd.rules.repeated_rule(\n",
    "        window_length, [cirq.I, cirq.X, cirq.I, cirq.X]\n",
    "    )\n",
    "\n",
    "def rep_xx_rule(window_length: int) -> Callable[[int], QPROGRAM]:\n",
    "    return ddd.rules.repeated_rule(window_length, [cirq.X, cirq.X])\n",
    "\n",
    "# Set DDD sequences to test.\n",
    "rules = [rep_ixix_rule, rep_xx_rule, ddd.rules.xx]\n",
    "\n",
    "# Test the sequence insertion\n",
    "for rule in rules:\n",
    "    print(rule(10))"
   ]
  },
  {
   "cell_type": "markdown",
   "id": "fab1d210",
   "metadata": {},
   "source": [
    "## Set parameters for the experiment"
   ]
  },
  {
   "cell_type": "code",
   "execution_count": 419,
   "id": "1917ee4c",
   "metadata": {},
   "outputs": [],
   "source": [
    "# Total number of shots to use.\n",
    "shots = 10000\n",
    "\n",
    "# Qubits to use on the experiment.\n",
    "num_qubits = 2\n",
    "\n",
    "# Test at multiple depths.\n",
    "depths = [10, 30, 50, 100]"
   ]
  },
  {
   "cell_type": "markdown",
   "id": "00c2062b",
   "metadata": {},
   "source": [
    "## Define the circuit\n",
    "\n",
    "We use Greenberger-Horne-Zeilinger (GHZ) circuits to benchmark the performance of the device.\n",
    "GHZ circuits are designed such that only two bitstrings $|00...0 \\rangle$ and $|11...1 \\rangle$\n",
    "should be sampled, with $P_0 = P_1 = 0.5$.\n",
    "As noted in *Mooney et al. (2021)* {cite}`Mooney_2021`, when GHZ circuits are run on a device, any other measured bitstrings are due to noise.\n",
    "In this example the GHZ sequence is applied first, followed by a long idle window of identity gates and finally the inverse of the GHZ\n",
    "sequence.\n",
    "Therefore $P_0 = 1$, and the frequency of the $|0 \\rangle$ bitstring is our target metric (in this example we only measure the first qubit)."
   ]
  },
  {
   "cell_type": "code",
   "execution_count": 420,
   "id": "87a1dc4d",
   "metadata": {},
   "outputs": [],
   "source": [
    "def get_circuit(depth: int):\n",
    "    \"\"\"Returns a circuit composed of a GHZ sequence, idle windows,\n",
    "    and finally an inverse GHZ sequence.\n",
    "\n",
    "    Args:\n",
    "        depth: The depth of the idle window in the circuit.\n",
    "    \"\"\"\n",
    "    circuit = qiskit.QuantumCircuit(num_qubits, num_qubits)\n",
    "    circuit.h(0)\n",
    "    circuit.cx(0, 1)\n",
    "    for _ in range(depth):\n",
    "        circuit.id(0)\n",
    "        circuit.id(1)\n",
    "    circuit.cx(0, 1)\n",
    "    circuit.h(0)\n",
    "    circuit.measure(0, 0)\n",
    "    return circuit"
   ]
  },
  {
   "cell_type": "markdown",
   "id": "edb135dd",
   "metadata": {},
   "source": [
    "Test the circuit output for depth 4, unmitigated"
   ]
  },
  {
   "cell_type": "code",
   "execution_count": 421,
   "id": "5c9eecd5",
   "metadata": {},
   "outputs": [
    {
     "name": "stdout",
     "output_type": "stream",
     "text": [
      "     ┌───┐     ┌───┐┌───┐┌───┐┌───┐     ┌───┐┌─┐\n",
      "q_0: ┤ H ├──■──┤ I ├┤ I ├┤ I ├┤ I ├──■──┤ H ├┤M├\n",
      "     └───┘┌─┴─┐├───┤├───┤├───┤├───┤┌─┴─┐└───┘└╥┘\n",
      "q_1: ─────┤ X ├┤ I ├┤ I ├┤ I ├┤ I ├┤ X ├──────╫─\n",
      "          └───┘└───┘└───┘└───┘└───┘└───┘      ║ \n",
      "c: 2/═════════════════════════════════════════╩═\n",
      "                                              0 \n"
     ]
    }
   ],
   "source": [
    "ibm_circ = get_circuit(4)\n",
    "print(ibm_circ)"
   ]
  },
  {
   "cell_type": "markdown",
   "id": "ded59728",
   "metadata": {},
   "source": [
    "Test the circuit output for depth 4, with IX sequences inserted"
   ]
  },
  {
   "cell_type": "code",
   "execution_count": 422,
   "id": "dbb11169",
   "metadata": {},
   "outputs": [
    {
     "name": "stdout",
     "output_type": "stream",
     "text": [
      "     ┌───┐     ┌───┐┌───┐┌───┐┌───┐     ┌───┐┌─┐\n",
      "q_0: ┤ H ├──■──┤ I ├┤ X ├┤ I ├┤ X ├──■──┤ H ├┤M├\n",
      "     └───┘┌─┴─┐├───┤├───┤├───┤├───┤┌─┴─┐└───┘└╥┘\n",
      "q_1: ─────┤ X ├┤ I ├┤ X ├┤ I ├┤ X ├┤ X ├──────╫─\n",
      "          └───┘└───┘└───┘└───┘└───┘└───┘      ║ \n",
      "c: 2/═════════════════════════════════════════╩═\n",
      "                                              0 \n"
     ]
    }
   ],
   "source": [
    "ixix_circ = insert_ddd_sequences(ibm_circ, rep_ixix_rule)\n",
    "print(ixix_circ)"
   ]
  },
  {
   "cell_type": "markdown",
   "id": "142537cc",
   "metadata": {},
   "source": [
    "## Define the executor\n",
    "\n",
    "Now that we have a circuit, we define the `execute` function which inputs a circuit and returns an expectation value -\n",
    "here, the frequency of sampling the correct bitstring."
   ]
  },
  {
   "cell_type": "code",
   "execution_count": 423,
   "id": "3088cb7d",
   "metadata": {},
   "outputs": [],
   "source": [
    "USE_REAL_HARDWARE = False\n",
    "correct_bitstring=[0,0]\n",
    "depths = range(2,100, 5) # test more depths"
   ]
  },
  {
   "cell_type": "markdown",
   "id": "77f1dd3f-2763-4e08-b2e5-cb2d47ca0095",
   "metadata": {},
   "source": [
    "Difference is to define coherent_unitary_error noise model instead of a stochastic one "
   ]
  },
  {
   "cell_type": "code",
   "execution_count": 425,
   "id": "65b382e2-1d43-47b1-aa42-8b27163e1722",
   "metadata": {},
   "outputs": [],
   "source": [
    "#from qiskit_ibm_runtime.fake_provider import FakeLimaV2 as FakeLima\n",
    "#from qiskit_aer.noise import NoiseModel\n",
    "#backend = FakeLima()\n",
    "#backend_noise_model = NoiseModel.from_backend(backend)\n",
    "from qiskit import QuantumCircuit\n",
    "import qiskit.quantum_info as qi\n",
    "\n",
    "# to be applied before each \n",
    "err = QuantumCircuit(1, 1)\n",
    "err.rz(0.05,0)\n",
    "u_err = qi.Operator(err)\n",
    "\n",
    "from qiskit_aer.noise import NoiseModel, coherent_unitary_error\n",
    "backend_noise_model = NoiseModel()\n",
    "backend_noise_model.add_all_qubit_quantum_error(coherent_unitary_error(u_err), ['id','x','h'])"
   ]
  },
  {
   "cell_type": "code",
   "execution_count": 426,
   "id": "1c7ac9d7",
   "metadata": {},
   "outputs": [],
   "source": [
    "if USE_REAL_HARDWARE:\n",
    "    service = QiskitRuntimeService()\n",
    "    backend = service.least_busy(operational=True, simulator=False)\n",
    "else:\n",
    "    #from qiskit_ibm_runtime.fake_provider import FakeLimaV2 as FakeLima\n",
    "    #backend = FakeLima()\n",
    "    from qiskit_aer import AerSimulator\n",
    "    backend = AerSimulator(noise_model=backend_noise_model)\n",
    "\n",
    "def ibm_executor(\n",
    "    circuit: qiskit.QuantumCircuit,\n",
    "    shots: int,\n",
    "    correct_bitstring: List[int],\n",
    "    noisy: bool = True,\n",
    ") -> float:\n",
    "    \"\"\"Executes the input circuit(s) and returns ⟨A⟩, where \n",
    "    A = |correct_bitstring⟩⟨correct_bitstring| for each circuit.\n",
    "\n",
    "    Args:\n",
    "        circuit: Circuit to run.\n",
    "        shots: Number of times to execute the circuit to compute the\n",
    "            expectation value.\n",
    "        correct_bitstring: Bitstring the circuit is expected to return, in the\n",
    "            absence of noise.\n",
    "    \"\"\"\n",
    "    if noisy:\n",
    "        transpiled = qiskit.transpile(circuit, backend=backend, optimization_level=0)\n",
    "        job = backend.run(transpiled, shots=shots)\n",
    "    else:\n",
    "        ideal_backend = AerSimulator()\n",
    "        job = ideal_backend.run(circuit, optimization_level=0, shots=shots)\n",
    "\n",
    "    # Convert from raw measurement counts to the expectation value\n",
    "    all_counts = job.result().get_counts()\n",
    "    prob_zero = all_counts.get(\"\".join(map(str, correct_bitstring)), 0.0) / shots\n",
    "    return prob_zero"
   ]
  },
  {
   "cell_type": "markdown",
   "id": "9c89bed2",
   "metadata": {},
   "source": [
    "## Run circuits with and without DDD"
   ]
  },
  {
   "cell_type": "code",
   "execution_count": 427,
   "id": "e13ee63b",
   "metadata": {
    "tags": [
     "remove-output"
    ]
   },
   "outputs": [
    {
     "name": "stdout",
     "output_type": "stream",
     "text": [
      "[[[2, 'unmitigated', 0.9843], [2, 'rep_ixix_rule', 0.9832], [2, 'rep_xx_rule', 0.9998], [2, 'xx', 0.9997], [7, 'unmitigated', 0.8689], [7, 'rep_ixix_rule', 0.9692], [7, 'rep_xx_rule', 0.9944], [7, 'xx', 0.9712], [12, 'unmitigated', 0.6554], [12, 'rep_ixix_rule', 0.9997], [12, 'rep_xx_rule', 0.9995], [12, 'xx', 0.9526], [17, 'unmitigated', 0.4043], [17, 'rep_ixix_rule', 0.9944], [17, 'rep_xx_rule', 0.9944], [17, 'xx', 0.9297], [22, 'unmitigated', 0.1866], [22, 'rep_ixix_rule', 0.9839], [22, 'rep_xx_rule', 0.9996], [22, 'xx', 0.828], [27, 'unmitigated', 0.0339], [27, 'rep_ixix_rule', 0.9693], [27, 'rep_xx_rule', 0.993], [27, 'xx', 0.7855], [32, 'unmitigated', 0.0024], [32, 'rep_ixix_rule', 0.9995], [32, 'rep_xx_rule', 0.9993], [32, 'xx', 0.7553], [37, 'unmitigated', 0.0852], [37, 'rep_ixix_rule', 0.9946], [37, 'rep_xx_rule', 0.9944], [37, 'xx', 0.6109], [42, 'unmitigated', 0.2738], [42, 'rep_ixix_rule', 0.983], [42, 'rep_xx_rule', 0.9996], [42, 'xx', 0.5582], [47, 'unmitigated', 0.515], [47, 'rep_ixix_rule', 0.9704], [47, 'rep_xx_rule', 0.995], [47, 'xx', 0.5069], [52, 'unmitigated', 0.7628], [52, 'rep_ixix_rule', 0.9994], [52, 'rep_xx_rule', 0.9996], [52, 'xx', 0.3591], [57, 'unmitigated', 0.9283], [57, 'rep_ixix_rule', 0.9952], [57, 'rep_xx_rule', 0.9942], [57, 'xx', 0.3225], [62, 'unmitigated', 0.9998], [62, 'rep_ixix_rule', 0.9826], [62, 'rep_xx_rule', 0.9994], [62, 'xx', 0.2725], [67, 'unmitigated', 0.9463], [67, 'rep_ixix_rule', 0.9695], [67, 'rep_xx_rule', 0.9958], [67, 'xx', 0.148], [72, 'unmitigated', 0.7807], [72, 'rep_ixix_rule', 0.9996], [72, 'rep_xx_rule', 0.9991], [72, 'xx', 0.1148], [77, 'unmitigated', 0.5529], [77, 'rep_ixix_rule', 0.9945], [77, 'rep_xx_rule', 0.9942], [77, 'xx', 0.0839], [82, 'unmitigated', 0.3178], [82, 'rep_ixix_rule', 0.9837], [82, 'rep_xx_rule', 0.9992], [82, 'xx', 0.0222], [87, 'unmitigated', 0.1102], [87, 'rep_ixix_rule', 0.972], [87, 'rep_xx_rule', 0.9947], [87, 'xx', 0.0093], [92, 'unmitigated', 0.0081], [92, 'rep_ixix_rule', 0.9994], [92, 'rep_xx_rule', 0.9994], [92, 'xx', 0.0021], [97, 'unmitigated', 0.0259], [97, 'rep_ixix_rule', 0.9931], [97, 'rep_xx_rule', 0.9952], [97, 'xx', 0.0108]], [[2, 'unmitigated', 0.9854], [2, 'rep_ixix_rule', 0.9852], [2, 'rep_xx_rule', 0.9992], [2, 'xx', 0.9998], [7, 'unmitigated', 0.8578], [7, 'rep_ixix_rule', 0.9688], [7, 'rep_xx_rule', 0.9947], [7, 'xx', 0.9702], [12, 'unmitigated', 0.6555], [12, 'rep_ixix_rule', 0.9992], [12, 'rep_xx_rule', 0.999], [12, 'xx', 0.9517], [17, 'unmitigated', 0.4089], [17, 'rep_ixix_rule', 0.9938], [17, 'rep_xx_rule', 0.9942], [17, 'xx', 0.9256], [22, 'unmitigated', 0.1868], [22, 'rep_ixix_rule', 0.9849], [22, 'rep_xx_rule', 0.9999], [22, 'xx', 0.8283], [27, 'unmitigated', 0.0407], [27, 'rep_ixix_rule', 0.9688], [27, 'rep_xx_rule', 0.9953], [27, 'xx', 0.7887], [32, 'unmitigated', 0.0023], [32, 'rep_ixix_rule', 0.9996], [32, 'rep_xx_rule', 0.9994], [32, 'xx', 0.7522], [37, 'unmitigated', 0.0932], [37, 'rep_ixix_rule', 0.9956], [37, 'rep_xx_rule', 0.9957], [37, 'xx', 0.607], [42, 'unmitigated', 0.2705], [42, 'rep_ixix_rule', 0.9851], [42, 'rep_xx_rule', 0.9997], [42, 'xx', 0.5718], [47, 'unmitigated', 0.5182], [47, 'rep_ixix_rule', 0.9729], [47, 'rep_xx_rule', 0.9944], [47, 'xx', 0.5078], [52, 'unmitigated', 0.7558], [52, 'rep_ixix_rule', 0.9993], [52, 'rep_xx_rule', 0.999], [52, 'xx', 0.3575], [57, 'unmitigated', 0.931], [57, 'rep_ixix_rule', 0.9952], [57, 'rep_xx_rule', 0.9931], [57, 'xx', 0.3105], [62, 'unmitigated', 0.9999], [62, 'rep_ixix_rule', 0.9856], [62, 'rep_xx_rule', 0.9997], [62, 'xx', 0.2712], [67, 'unmitigated', 0.9455], [67, 'rep_ixix_rule', 0.9707], [67, 'rep_xx_rule', 0.995], [67, 'xx', 0.1532], [72, 'unmitigated', 0.7784], [72, 'rep_ixix_rule', 0.9997], [72, 'rep_xx_rule', 0.9993], [72, 'xx', 0.1192], [77, 'unmitigated', 0.5504], [77, 'rep_ixix_rule', 0.9942], [77, 'rep_xx_rule', 0.9945], [77, 'xx', 0.0864], [82, 'unmitigated', 0.3063], [82, 'rep_ixix_rule', 0.983], [82, 'rep_xx_rule', 0.9991], [82, 'xx', 0.0207], [87, 'unmitigated', 0.1095], [87, 'rep_ixix_rule', 0.9703], [87, 'rep_xx_rule', 0.9939], [87, 'xx', 0.0092], [92, 'unmitigated', 0.0074], [92, 'rep_ixix_rule', 0.9996], [92, 'rep_xx_rule', 0.9994], [92, 'xx', 0.0023], [97, 'unmitigated', 0.0264], [97, 'rep_ixix_rule', 0.9945], [97, 'rep_xx_rule', 0.9955], [97, 'xx', 0.0096]], [[2, 'unmitigated', 0.9823], [2, 'rep_ixix_rule', 0.9852], [2, 'rep_xx_rule', 0.9994], [2, 'xx', 0.9993], [7, 'unmitigated', 0.869], [7, 'rep_ixix_rule', 0.9684], [7, 'rep_xx_rule', 0.9944], [7, 'xx', 0.9727], [12, 'unmitigated', 0.6711], [12, 'rep_ixix_rule', 0.9994], [12, 'rep_xx_rule', 0.9995], [12, 'xx', 0.9516], [17, 'unmitigated', 0.4177], [17, 'rep_ixix_rule', 0.9947], [17, 'rep_xx_rule', 0.9946], [17, 'xx', 0.9221], [22, 'unmitigated', 0.1948], [22, 'rep_ixix_rule', 0.9859], [22, 'rep_xx_rule', 0.9991], [22, 'xx', 0.825], [27, 'unmitigated', 0.0383], [27, 'rep_ixix_rule', 0.9725], [27, 'rep_xx_rule', 0.995], [27, 'xx', 0.788], [32, 'unmitigated', 0.0031], [32, 'rep_ixix_rule', 0.9993], [32, 'rep_xx_rule', 0.9994], [32, 'xx', 0.7527], [37, 'unmitigated', 0.0861], [37, 'rep_ixix_rule', 0.9958], [37, 'rep_xx_rule', 0.9946], [37, 'xx', 0.6119], [42, 'unmitigated', 0.2777], [42, 'rep_ixix_rule', 0.985], [42, 'rep_xx_rule', 0.9993], [42, 'xx', 0.5556], [47, 'unmitigated', 0.5228], [47, 'rep_ixix_rule', 0.9695], [47, 'rep_xx_rule', 0.9948], [47, 'xx', 0.51], [52, 'unmitigated', 0.7585], [52, 'rep_ixix_rule', 0.9994], [52, 'rep_xx_rule', 0.9993], [52, 'xx', 0.3697], [57, 'unmitigated', 0.9345], [57, 'rep_ixix_rule', 0.9937], [57, 'rep_xx_rule', 0.9952], [57, 'xx', 0.3152], [62, 'unmitigated', 0.9996], [62, 'rep_ixix_rule', 0.985], [62, 'rep_xx_rule', 0.9996], [62, 'xx', 0.2677], [67, 'unmitigated', 0.9517], [67, 'rep_ixix_rule', 0.9716], [67, 'rep_xx_rule', 0.9948], [67, 'xx', 0.1435], [72, 'unmitigated', 0.7869], [72, 'rep_ixix_rule', 0.999], [72, 'rep_xx_rule', 0.9995], [72, 'xx', 0.1167], [77, 'unmitigated', 0.5519], [77, 'rep_ixix_rule', 0.9936], [77, 'rep_xx_rule', 0.995], [77, 'xx', 0.0858], [82, 'unmitigated', 0.3188], [82, 'rep_ixix_rule', 0.9852], [82, 'rep_xx_rule', 0.9995], [82, 'xx', 0.023], [87, 'unmitigated', 0.1071], [87, 'rep_ixix_rule', 0.9701], [87, 'rep_xx_rule', 0.9949], [87, 'xx', 0.0101], [92, 'unmitigated', 0.0065], [92, 'rep_ixix_rule', 0.9998], [92, 'rep_xx_rule', 0.9991], [92, 'xx', 0.0019], [97, 'unmitigated', 0.0226], [97, 'rep_ixix_rule', 0.994], [97, 'rep_xx_rule', 0.9951], [97, 'xx', 0.0119]], [[2, 'unmitigated', 0.9855], [2, 'rep_ixix_rule', 0.9838], [2, 'rep_xx_rule', 0.9996], [2, 'xx', 0.999], [7, 'unmitigated', 0.8663], [7, 'rep_ixix_rule', 0.9715], [7, 'rep_xx_rule', 0.9943], [7, 'xx', 0.97], [12, 'unmitigated', 0.6511], [12, 'rep_ixix_rule', 0.9994], [12, 'rep_xx_rule', 0.9994], [12, 'xx', 0.9541], [17, 'unmitigated', 0.4117], [17, 'rep_ixix_rule', 0.9955], [17, 'rep_xx_rule', 0.9948], [17, 'xx', 0.9242], [22, 'unmitigated', 0.1916], [22, 'rep_ixix_rule', 0.9842], [22, 'rep_xx_rule', 0.9995], [22, 'xx', 0.8318], [27, 'unmitigated', 0.0358], [27, 'rep_ixix_rule', 0.9712], [27, 'rep_xx_rule', 0.9945], [27, 'xx', 0.7955], [32, 'unmitigated', 0.0026], [32, 'rep_ixix_rule', 0.9989], [32, 'rep_xx_rule', 0.9989], [32, 'xx', 0.7428], [37, 'unmitigated', 0.0915], [37, 'rep_ixix_rule', 0.9956], [37, 'rep_xx_rule', 0.9956], [37, 'xx', 0.6082], [42, 'unmitigated', 0.2828], [42, 'rep_ixix_rule', 0.9834], [42, 'rep_xx_rule', 0.9993], [42, 'xx', 0.5585], [47, 'unmitigated', 0.5252], [47, 'rep_ixix_rule', 0.9708], [47, 'rep_xx_rule', 0.9939], [47, 'xx', 0.5172], [52, 'unmitigated', 0.7572], [52, 'rep_ixix_rule', 0.9996], [52, 'rep_xx_rule', 0.9994], [52, 'xx', 0.3603], [57, 'unmitigated', 0.9296], [57, 'rep_ixix_rule', 0.994], [57, 'rep_xx_rule', 0.9947], [57, 'xx', 0.3078], [62, 'unmitigated', 0.9999], [62, 'rep_ixix_rule', 0.9836], [62, 'rep_xx_rule', 0.9994], [62, 'xx', 0.2751], [67, 'unmitigated', 0.947], [67, 'rep_ixix_rule', 0.9674], [67, 'rep_xx_rule', 0.9945], [67, 'xx', 0.1518], [72, 'unmitigated', 0.7827], [72, 'rep_ixix_rule', 0.9995], [72, 'rep_xx_rule', 0.9994], [72, 'xx', 0.1179], [77, 'unmitigated', 0.5493], [77, 'rep_ixix_rule', 0.994], [77, 'rep_xx_rule', 0.9962], [77, 'xx', 0.0862], [82, 'unmitigated', 0.3067], [82, 'rep_ixix_rule', 0.985], [82, 'rep_xx_rule', 0.9992], [82, 'xx', 0.0215], [87, 'unmitigated', 0.1124], [87, 'rep_ixix_rule', 0.9716], [87, 'rep_xx_rule', 0.9947], [87, 'xx', 0.0096], [92, 'unmitigated', 0.0065], [92, 'rep_ixix_rule', 0.9993], [92, 'rep_xx_rule', 0.9993], [92, 'xx', 0.0018], [97, 'unmitigated', 0.0257], [97, 'rep_ixix_rule', 0.9956], [97, 'rep_xx_rule', 0.9952], [97, 'xx', 0.0098]], [[2, 'unmitigated', 0.9834], [2, 'rep_ixix_rule', 0.984], [2, 'rep_xx_rule', 0.9988], [2, 'xx', 0.999], [7, 'unmitigated', 0.8655], [7, 'rep_ixix_rule', 0.9704], [7, 'rep_xx_rule', 0.9945], [7, 'xx', 0.968], [12, 'unmitigated', 0.6542], [12, 'rep_ixix_rule', 0.9995], [12, 'rep_xx_rule', 0.9995], [12, 'xx', 0.9499], [17, 'unmitigated', 0.4105], [17, 'rep_ixix_rule', 0.9938], [17, 'rep_xx_rule', 0.9951], [17, 'xx', 0.9263], [22, 'unmitigated', 0.1831], [22, 'rep_ixix_rule', 0.9853], [22, 'rep_xx_rule', 0.9997], [22, 'xx', 0.8318], [27, 'unmitigated', 0.0351], [27, 'rep_ixix_rule', 0.9709], [27, 'rep_xx_rule', 0.9932], [27, 'xx', 0.7934], [32, 'unmitigated', 0.0024], [32, 'rep_ixix_rule', 0.9995], [32, 'rep_xx_rule', 0.9996], [32, 'xx', 0.7459], [37, 'unmitigated', 0.0921], [37, 'rep_ixix_rule', 0.9945], [37, 'rep_xx_rule', 0.9945], [37, 'xx', 0.6002], [42, 'unmitigated', 0.2766], [42, 'rep_ixix_rule', 0.9875], [42, 'rep_xx_rule', 0.999], [42, 'xx', 0.5636], [47, 'unmitigated', 0.5118], [47, 'rep_ixix_rule', 0.9683], [47, 'rep_xx_rule', 0.9948], [47, 'xx', 0.52], [52, 'unmitigated', 0.7586], [52, 'rep_ixix_rule', 0.9993], [52, 'rep_xx_rule', 0.9995], [52, 'xx', 0.3698], [57, 'unmitigated', 0.9265], [57, 'rep_ixix_rule', 0.9931], [57, 'rep_xx_rule', 0.995], [57, 'xx', 0.3155], [62, 'unmitigated', 0.9999], [62, 'rep_ixix_rule', 0.9841], [62, 'rep_xx_rule', 0.9998], [62, 'xx', 0.266], [67, 'unmitigated', 0.9467], [67, 'rep_ixix_rule', 0.9706], [67, 'rep_xx_rule', 0.9945], [67, 'xx', 0.1434], [72, 'unmitigated', 0.781], [72, 'rep_ixix_rule', 0.9996], [72, 'rep_xx_rule', 0.9992], [72, 'xx', 0.1147], [77, 'unmitigated', 0.5489], [77, 'rep_ixix_rule', 0.9952], [77, 'rep_xx_rule', 0.9937], [77, 'xx', 0.0814], [82, 'unmitigated', 0.308], [82, 'rep_ixix_rule', 0.9848], [82, 'rep_xx_rule', 0.9993], [82, 'xx', 0.0233], [87, 'unmitigated', 0.1107], [87, 'rep_ixix_rule', 0.9713], [87, 'rep_xx_rule', 0.9944], [87, 'xx', 0.0081], [92, 'unmitigated', 0.007], [92, 'rep_ixix_rule', 0.9994], [92, 'rep_xx_rule', 0.9993], [92, 'xx', 0.0023], [97, 'unmitigated', 0.0238], [97, 'rep_ixix_rule', 0.993], [97, 'rep_xx_rule', 0.9939], [97, 'xx', 0.0112]], [[2, 'unmitigated', 0.9844], [2, 'rep_ixix_rule', 0.986], [2, 'rep_xx_rule', 0.999], [2, 'xx', 0.9997], [7, 'unmitigated', 0.8633], [7, 'rep_ixix_rule', 0.9679], [7, 'rep_xx_rule', 0.9938], [7, 'xx', 0.9726], [12, 'unmitigated', 0.6678], [12, 'rep_ixix_rule', 0.9995], [12, 'rep_xx_rule', 0.9996], [12, 'xx', 0.9518], [17, 'unmitigated', 0.418], [17, 'rep_ixix_rule', 0.9946], [17, 'rep_xx_rule', 0.9926], [17, 'xx', 0.9265], [22, 'unmitigated', 0.1909], [22, 'rep_ixix_rule', 0.9852], [22, 'rep_xx_rule', 0.9996], [22, 'xx', 0.8317], [27, 'unmitigated', 0.0364], [27, 'rep_ixix_rule', 0.9664], [27, 'rep_xx_rule', 0.9935], [27, 'xx', 0.7831], [32, 'unmitigated', 0.0026], [32, 'rep_ixix_rule', 0.9993], [32, 'rep_xx_rule', 1.0], [32, 'xx', 0.7382], [37, 'unmitigated', 0.0848], [37, 'rep_ixix_rule', 0.994], [37, 'rep_xx_rule', 0.995], [37, 'xx', 0.6162], [42, 'unmitigated', 0.2738], [42, 'rep_ixix_rule', 0.9854], [42, 'rep_xx_rule', 0.9992], [42, 'xx', 0.5569], [47, 'unmitigated', 0.525], [47, 'rep_ixix_rule', 0.9695], [47, 'rep_xx_rule', 0.9951], [47, 'xx', 0.509], [52, 'unmitigated', 0.7552], [52, 'rep_ixix_rule', 0.9994], [52, 'rep_xx_rule', 0.9991], [52, 'xx', 0.3658], [57, 'unmitigated', 0.9319], [57, 'rep_ixix_rule', 0.9949], [57, 'rep_xx_rule', 0.9943], [57, 'xx', 0.3152], [62, 'unmitigated', 0.9999], [62, 'rep_ixix_rule', 0.9819], [62, 'rep_xx_rule', 0.9992], [62, 'xx', 0.266], [67, 'unmitigated', 0.9492], [67, 'rep_ixix_rule', 0.9696], [67, 'rep_xx_rule', 0.9938], [67, 'xx', 0.1441], [72, 'unmitigated', 0.7858], [72, 'rep_ixix_rule', 0.9996], [72, 'rep_xx_rule', 0.9998], [72, 'xx', 0.1167], [77, 'unmitigated', 0.5488], [77, 'rep_ixix_rule', 0.9937], [77, 'rep_xx_rule', 0.9929], [77, 'xx', 0.081], [82, 'unmitigated', 0.3156], [82, 'rep_ixix_rule', 0.9852], [82, 'rep_xx_rule', 0.9985], [82, 'xx', 0.0192], [87, 'unmitigated', 0.1088], [87, 'rep_ixix_rule', 0.972], [87, 'rep_xx_rule', 0.9947], [87, 'xx', 0.008], [92, 'unmitigated', 0.0073], [92, 'rep_ixix_rule', 0.9992], [92, 'rep_xx_rule', 0.9994], [92, 'xx', 0.0016], [97, 'unmitigated', 0.0232], [97, 'rep_ixix_rule', 0.9945], [97, 'rep_xx_rule', 0.994], [97, 'xx', 0.0103]], [[2, 'unmitigated', 0.9845], [2, 'rep_ixix_rule', 0.9865], [2, 'rep_xx_rule', 0.9992], [2, 'xx', 0.9992], [7, 'unmitigated', 0.8657], [7, 'rep_ixix_rule', 0.9678], [7, 'rep_xx_rule', 0.9941], [7, 'xx', 0.9693], [12, 'unmitigated', 0.6489], [12, 'rep_ixix_rule', 0.9991], [12, 'rep_xx_rule', 0.999], [12, 'xx', 0.9476], [17, 'unmitigated', 0.4102], [17, 'rep_ixix_rule', 0.9943], [17, 'rep_xx_rule', 0.9946], [17, 'xx', 0.9246], [22, 'unmitigated', 0.1743], [22, 'rep_ixix_rule', 0.9838], [22, 'rep_xx_rule', 0.9994], [22, 'xx', 0.8343], [27, 'unmitigated', 0.0394], [27, 'rep_ixix_rule', 0.9692], [27, 'rep_xx_rule', 0.9939], [27, 'xx', 0.7983], [32, 'unmitigated', 0.0027], [32, 'rep_ixix_rule', 0.9991], [32, 'rep_xx_rule', 0.9994], [32, 'xx', 0.7562], [37, 'unmitigated', 0.0862], [37, 'rep_ixix_rule', 0.9947], [37, 'rep_xx_rule', 0.9946], [37, 'xx', 0.6029], [42, 'unmitigated', 0.2704], [42, 'rep_ixix_rule', 0.9852], [42, 'rep_xx_rule', 0.9995], [42, 'xx', 0.5601], [47, 'unmitigated', 0.5225], [47, 'rep_ixix_rule', 0.9683], [47, 'rep_xx_rule', 0.9948], [47, 'xx', 0.5121], [52, 'unmitigated', 0.7538], [52, 'rep_ixix_rule', 0.9992], [52, 'rep_xx_rule', 0.9998], [52, 'xx', 0.3564], [57, 'unmitigated', 0.9309], [57, 'rep_ixix_rule', 0.995], [57, 'rep_xx_rule', 0.9929], [57, 'xx', 0.3127], [62, 'unmitigated', 0.9992], [62, 'rep_ixix_rule', 0.985], [62, 'rep_xx_rule', 0.9991], [62, 'xx', 0.2701], [67, 'unmitigated', 0.9459], [67, 'rep_ixix_rule', 0.9734], [67, 'rep_xx_rule', 0.9943], [67, 'xx', 0.1542], [72, 'unmitigated', 0.7801], [72, 'rep_ixix_rule', 0.9992], [72, 'rep_xx_rule', 0.9997], [72, 'xx', 0.1165], [77, 'unmitigated', 0.549], [77, 'rep_ixix_rule', 0.9946], [77, 'rep_xx_rule', 0.9943], [77, 'xx', 0.0848], [82, 'unmitigated', 0.3055], [82, 'rep_ixix_rule', 0.9859], [82, 'rep_xx_rule', 0.9991], [82, 'xx', 0.0215], [87, 'unmitigated', 0.1089], [87, 'rep_ixix_rule', 0.9671], [87, 'rep_xx_rule', 0.9938], [87, 'xx', 0.0105], [92, 'unmitigated', 0.0092], [92, 'rep_ixix_rule', 0.9994], [92, 'rep_xx_rule', 0.9991], [92, 'xx', 0.0021], [97, 'unmitigated', 0.0278], [97, 'rep_ixix_rule', 0.9944], [97, 'rep_xx_rule', 0.9932], [97, 'xx', 0.0101]], [[2, 'unmitigated', 0.9854], [2, 'rep_ixix_rule', 0.9843], [2, 'rep_xx_rule', 0.9993], [2, 'xx', 0.9985], [7, 'unmitigated', 0.8644], [7, 'rep_ixix_rule', 0.9671], [7, 'rep_xx_rule', 0.9943], [7, 'xx', 0.9683], [12, 'unmitigated', 0.655], [12, 'rep_ixix_rule', 0.9991], [12, 'rep_xx_rule', 0.9995], [12, 'xx', 0.9513], [17, 'unmitigated', 0.4173], [17, 'rep_ixix_rule', 0.995], [17, 'rep_xx_rule', 0.9936], [17, 'xx', 0.9305], [22, 'unmitigated', 0.1891], [22, 'rep_ixix_rule', 0.9854], [22, 'rep_xx_rule', 0.9996], [22, 'xx', 0.8271], [27, 'unmitigated', 0.0352], [27, 'rep_ixix_rule', 0.9691], [27, 'rep_xx_rule', 0.9923], [27, 'xx', 0.794], [32, 'unmitigated', 0.0029], [32, 'rep_ixix_rule', 0.9993], [32, 'rep_xx_rule', 0.9995], [32, 'xx', 0.7486], [37, 'unmitigated', 0.09], [37, 'rep_ixix_rule', 0.9946], [37, 'rep_xx_rule', 0.9947], [37, 'xx', 0.6144], [42, 'unmitigated', 0.2728], [42, 'rep_ixix_rule', 0.9849], [42, 'rep_xx_rule', 0.9998], [42, 'xx', 0.5495], [47, 'unmitigated', 0.5149], [47, 'rep_ixix_rule', 0.9719], [47, 'rep_xx_rule', 0.994], [47, 'xx', 0.5078], [52, 'unmitigated', 0.7584], [52, 'rep_ixix_rule', 0.9992], [52, 'rep_xx_rule', 0.9994], [52, 'xx', 0.37], [57, 'unmitigated', 0.9294], [57, 'rep_ixix_rule', 0.9941], [57, 'rep_xx_rule', 0.9945], [57, 'xx', 0.3087], [62, 'unmitigated', 0.9997], [62, 'rep_ixix_rule', 0.9848], [62, 'rep_xx_rule', 0.9989], [62, 'xx', 0.2692], [67, 'unmitigated', 0.9484], [67, 'rep_ixix_rule', 0.9693], [67, 'rep_xx_rule', 0.9941], [67, 'xx', 0.1491], [72, 'unmitigated', 0.7809], [72, 'rep_ixix_rule', 0.9994], [72, 'rep_xx_rule', 0.9995], [72, 'xx', 0.1146], [77, 'unmitigated', 0.5549], [77, 'rep_ixix_rule', 0.9959], [77, 'rep_xx_rule', 0.9934], [77, 'xx', 0.0884], [82, 'unmitigated', 0.3071], [82, 'rep_ixix_rule', 0.9846], [82, 'rep_xx_rule', 0.9997], [82, 'xx', 0.0211], [87, 'unmitigated', 0.1121], [87, 'rep_ixix_rule', 0.9676], [87, 'rep_xx_rule', 0.9954], [87, 'xx', 0.0085], [92, 'unmitigated', 0.0061], [92, 'rep_ixix_rule', 0.9999], [92, 'rep_xx_rule', 0.9995], [92, 'xx', 0.0026], [97, 'unmitigated', 0.027], [97, 'rep_ixix_rule', 0.9941], [97, 'rep_xx_rule', 0.9952], [97, 'xx', 0.0104]], [[2, 'unmitigated', 0.9834], [2, 'rep_ixix_rule', 0.9857], [2, 'rep_xx_rule', 0.9993], [2, 'xx', 0.9996], [7, 'unmitigated', 0.8634], [7, 'rep_ixix_rule', 0.9728], [7, 'rep_xx_rule', 0.994], [7, 'xx', 0.9719], [12, 'unmitigated', 0.6632], [12, 'rep_ixix_rule', 0.9994], [12, 'rep_xx_rule', 0.9994], [12, 'xx', 0.949], [17, 'unmitigated', 0.4168], [17, 'rep_ixix_rule', 0.9959], [17, 'rep_xx_rule', 0.9945], [17, 'xx', 0.9321], [22, 'unmitigated', 0.1834], [22, 'rep_ixix_rule', 0.9818], [22, 'rep_xx_rule', 0.9993], [22, 'xx', 0.8317], [27, 'unmitigated', 0.0385], [27, 'rep_ixix_rule', 0.9725], [27, 'rep_xx_rule', 0.994], [27, 'xx', 0.791], [32, 'unmitigated', 0.0027], [32, 'rep_ixix_rule', 0.9992], [32, 'rep_xx_rule', 0.9991], [32, 'xx', 0.7516], [37, 'unmitigated', 0.0876], [37, 'rep_ixix_rule', 0.9941], [37, 'rep_xx_rule', 0.9948], [37, 'xx', 0.5949], [42, 'unmitigated', 0.2832], [42, 'rep_ixix_rule', 0.985], [42, 'rep_xx_rule', 0.9996], [42, 'xx', 0.5597], [47, 'unmitigated', 0.5234], [47, 'rep_ixix_rule', 0.9714], [47, 'rep_xx_rule', 0.9943], [47, 'xx', 0.519], [52, 'unmitigated', 0.7641], [52, 'rep_ixix_rule', 0.9995], [52, 'rep_xx_rule', 0.9995], [52, 'xx', 0.3506], [57, 'unmitigated', 0.9316], [57, 'rep_ixix_rule', 0.9935], [57, 'rep_xx_rule', 0.9939], [57, 'xx', 0.3151], [62, 'unmitigated', 0.9999], [62, 'rep_ixix_rule', 0.9822], [62, 'rep_xx_rule', 0.9997], [62, 'xx', 0.2682], [67, 'unmitigated', 0.9485], [67, 'rep_ixix_rule', 0.9695], [67, 'rep_xx_rule', 0.9946], [67, 'xx', 0.154], [72, 'unmitigated', 0.7788], [72, 'rep_ixix_rule', 0.9995], [72, 'rep_xx_rule', 0.9991], [72, 'xx', 0.1113], [77, 'unmitigated', 0.5504], [77, 'rep_ixix_rule', 0.9943], [77, 'rep_xx_rule', 0.9942], [77, 'xx', 0.0856], [82, 'unmitigated', 0.316], [82, 'rep_ixix_rule', 0.9835], [82, 'rep_xx_rule', 0.9995], [82, 'xx', 0.0217], [87, 'unmitigated', 0.1117], [87, 'rep_ixix_rule', 0.9673], [87, 'rep_xx_rule', 0.9942], [87, 'xx', 0.008], [92, 'unmitigated', 0.0069], [92, 'rep_ixix_rule', 0.9996], [92, 'rep_xx_rule', 0.9993], [92, 'xx', 0.0017], [97, 'unmitigated', 0.0249], [97, 'rep_ixix_rule', 0.9942], [97, 'rep_xx_rule', 0.9939], [97, 'xx', 0.0119]], [[2, 'unmitigated', 0.9834], [2, 'rep_ixix_rule', 0.9847], [2, 'rep_xx_rule', 0.999], [2, 'xx', 0.9993], [7, 'unmitigated', 0.8673], [7, 'rep_ixix_rule', 0.9717], [7, 'rep_xx_rule', 0.9928], [7, 'xx', 0.9707], [12, 'unmitigated', 0.6594], [12, 'rep_ixix_rule', 0.9994], [12, 'rep_xx_rule', 0.9994], [12, 'xx', 0.9475], [17, 'unmitigated', 0.4096], [17, 'rep_ixix_rule', 0.9937], [17, 'rep_xx_rule', 0.9948], [17, 'xx', 0.9252], [22, 'unmitigated', 0.1842], [22, 'rep_ixix_rule', 0.9855], [22, 'rep_xx_rule', 0.9995], [22, 'xx', 0.8293], [27, 'unmitigated', 0.0378], [27, 'rep_ixix_rule', 0.9701], [27, 'rep_xx_rule', 0.9935], [27, 'xx', 0.7917], [32, 'unmitigated', 0.0027], [32, 'rep_ixix_rule', 0.999], [32, 'rep_xx_rule', 0.9996], [32, 'xx', 0.7512], [37, 'unmitigated', 0.0938], [37, 'rep_ixix_rule', 0.9956], [37, 'rep_xx_rule', 0.9947], [37, 'xx', 0.6078], [42, 'unmitigated', 0.2682], [42, 'rep_ixix_rule', 0.9818], [42, 'rep_xx_rule', 0.9994], [42, 'xx', 0.5567], [47, 'unmitigated', 0.5203], [47, 'rep_ixix_rule', 0.9714], [47, 'rep_xx_rule', 0.994], [47, 'xx', 0.505], [52, 'unmitigated', 0.7597], [52, 'rep_ixix_rule', 0.9993], [52, 'rep_xx_rule', 0.9996], [52, 'xx', 0.3602], [57, 'unmitigated', 0.9299], [57, 'rep_ixix_rule', 0.9938], [57, 'rep_xx_rule', 0.9937], [57, 'xx', 0.3211], [62, 'unmitigated', 0.9998], [62, 'rep_ixix_rule', 0.9816], [62, 'rep_xx_rule', 0.9993], [62, 'xx', 0.2722], [67, 'unmitigated', 0.9416], [67, 'rep_ixix_rule', 0.97], [67, 'rep_xx_rule', 0.9939], [67, 'xx', 0.1456], [72, 'unmitigated', 0.7806], [72, 'rep_ixix_rule', 0.9993], [72, 'rep_xx_rule', 0.9994], [72, 'xx', 0.114], [77, 'unmitigated', 0.5521], [77, 'rep_ixix_rule', 0.9946], [77, 'rep_xx_rule', 0.9941], [77, 'xx', 0.0856], [82, 'unmitigated', 0.3078], [82, 'rep_ixix_rule', 0.9864], [82, 'rep_xx_rule', 0.9991], [82, 'xx', 0.0218], [87, 'unmitigated', 0.114], [87, 'rep_ixix_rule', 0.9706], [87, 'rep_xx_rule', 0.9929], [87, 'xx', 0.011], [92, 'unmitigated', 0.0084], [92, 'rep_ixix_rule', 0.9997], [92, 'rep_xx_rule', 0.9994], [92, 'xx', 0.0022], [97, 'unmitigated', 0.0272], [97, 'rep_ixix_rule', 0.9947], [97, 'rep_xx_rule', 0.9942], [97, 'xx', 0.0102]]]\n"
     ]
    }
   ],
   "source": [
    "# number of experiments to get statistics\n",
    "num_experiments = 10\n",
    "datas = [[] for i in range(num_experiments)]\n",
    "         \n",
    "for data in datas:\n",
    "    for depth in depths:\n",
    "        circuit = get_circuit(depth)\n",
    "        noisy_value = ibm_executor(\n",
    "                circuit, shots=shots, correct_bitstring=correct_bitstring\n",
    "        )\n",
    "        data.append([depth, \"unmitigated\", noisy_value])\n",
    "        for rule in rules:\n",
    "            ddd_circuit = insert_ddd_sequences(circuit, rule)\n",
    "            ddd_value = ibm_executor(\n",
    "                ddd_circuit, shots=shots, correct_bitstring=correct_bitstring\n",
    "            )\n",
    "            data.append([depth, rule.__name__, ddd_value])\n",
    "\n",
    "# calculate average for each run\n",
    "data_proc = datas[0]\n",
    "for data in datas[1:]:\n",
    "    for i,res in enumerate(data):\n",
    "        data_proc[i][2] += res[2]\n",
    "\n",
    "for res in data_proc:\n",
    "    res[2] /= num_experiments\n",
    "\n",
    "data = data_proc\n",
    "        \n",
    "            "
   ]
  },
  {
   "cell_type": "markdown",
   "id": "8539b81e",
   "metadata": {},
   "source": [
    "Now we can visualize the results."
   ]
  },
  {
   "cell_type": "code",
   "execution_count": 428,
   "id": "0310fa6b",
   "metadata": {
    "tags": [
     "remove-output"
    ]
   },
   "outputs": [
    {
     "data": {
      "text/plain": [
       "<matplotlib.legend.Legend at 0x723856e3afe0>"
      ]
     },
     "execution_count": 428,
     "metadata": {},
     "output_type": "execute_result"
    },
    {
     "data": {
      "image/png": "[encoded data removed]",
      "text/plain": [
       "<Figure size 640x480 with 1 Axes>"
      ]
     },
     "metadata": {},
     "output_type": "display_data"
    }
   ],
   "source": [
    "# Plot unmitigated\n",
    "x, y = [], []\n",
    "for res in data:\n",
    "    if res[1] == \"unmitigated\":\n",
    "        x.append(res[0])\n",
    "        y.append(res[2])\n",
    "plt.plot(x, y, \"--*\", label=\"Unmitigated\")\n",
    "\n",
    "# Plot xx\n",
    "x, y = [], []\n",
    "for res in data:\n",
    "    if res[1] == \"rep_xx_rule\":\n",
    "        x.append(res[0])\n",
    "        y.append(res[2])\n",
    "plt.plot(x, y, \"--*\", label=\"rep_xx_rule\")\n",
    "\n",
    "# Plot ixix\n",
    "x, y = [], []\n",
    "for res in data:\n",
    "    if res[1] == \"rep_ixix_rule\":\n",
    "        x.append(res[0])\n",
    "        y.append(res[2])\n",
    "plt.plot(x, y, \"--*\", label=\"rep_ixix_rule\")\n",
    "\n",
    "# Plot xx\n",
    "x, y = [], []\n",
    "for res in data:\n",
    "    if res[1] == \"xx\":\n",
    "        x.append(res[0])\n",
    "        y.append(res[2])\n",
    "plt.plot(x, y, \"--*\", label=\"xx\")\n",
    "\n",
    "\n",
    "plt.legend()"
   ]
  },
  {
   "cell_type": "markdown",
   "id": "2b5f8bba",
   "metadata": {},
   "source": [
    "```{figure} ../_thumbnails/ddd_qiskit_ghz_plot.png\n",
    "---\n",
    "\n",
    "name: ddd-qiskit-ghz-plot-ibmq\n",
    "---\n",
    "Plot of the unmitigated and DDD-mitigated expectation values obtained from executing the corresponding circuits.\n",
    "```"
   ]
  },
  {
   "cell_type": "markdown",
   "id": "e68e75e3",
   "metadata": {},
   "source": [
    "We can see that DDD improves the expectation value at each circuit depth, and the repeated XX sequence is the best at mitigating the errors\n",
    "occurring during idle windows."
   ]
  }
 ],
 "metadata": {
  "jupytext": {
   "formats": "md:myst",
   "text_representation": {
    "extension": ".md",
    "format_name": "myst",
    "format_version": 0.13,
    "jupytext_version": "1.16.1"
   }
  },
  "kernelspec": {
   "display_name": "Python 3 (ipykernel)",
   "language": "python",
   "name": "python3"
  },
  "language_info": {
   "codemirror_mode": {
    "name": "ipython",
    "version": 3
   },
   "file_extension": ".py",
   "mimetype": "text/x-python",
   "name": "python",
   "nbconvert_exporter": "python",
   "pygments_lexer": "ipython3",
   "version": "3.10.12"
  },
  "source_map": [
   13,
   27,
   34,
   46,
   52,
   69,
   73,
   82,
   94,
   112,
   116,
   119,
   123,
   126,
   133,
   138,
   147,
   183,
   187,
   203,
   207,
   244,
   254
  ]
 },
 "nbformat": 4,
 "nbformat_minor": 5
}
