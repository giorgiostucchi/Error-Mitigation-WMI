{
 "cells": [
  {
   "cell_type": "markdown",
   "metadata": {
    "tags": [
     "remove_cell"
    ]
   },
   "source": [
    "# Measurement Error Mitigation"
   ]
  },
  {
   "cell_type": "code",
   "execution_count": 1,
   "metadata": {},
   "outputs": [],
   "source": [
    "#import of the functions I defined in my_rem\n",
    "from my_rem import * "
   ]
  },
  {
   "cell_type": "code",
   "execution_count": 3,
   "metadata": {},
   "outputs": [
    {
     "name": "stdout",
     "output_type": "stream",
     "text": [
      "States:\n",
      "['00', '01', '10', '11']\n",
      "00 becomes {'11': 986, '01': 9143, '10': 8877, '00': 80994}\n",
      "01 becomes {'10': 1049, '00': 8953, '11': 8963, '01': 81035}\n",
      "10 becomes {'01': 1023, '11': 8990, '00': 8927, '10': 81060}\n",
      "11 becomes {'00': 1078, '10': 9054, '01': 8933, '11': 80935}\n",
      "\n",
      "Confusion Matrix:\n",
      "[[0.809940 0.091430 0.088770 0.009860]\n",
      " [0.089530 0.810350 0.010490 0.089630]\n",
      " [0.089270 0.010230 0.810600 0.089900]\n",
      " [0.010780 0.089330 0.090540 0.809350]] \n",
      "\n",
      "Mitigator:\n",
      "[[1.265497 -0.142774 -0.138501 0.015778]\n",
      " [-0.139576 1.265033 0.014553 -0.140010]\n",
      " [-0.139171 0.015222 1.264384 -0.140434]\n",
      " [0.014119 -0.139426 -0.141205 1.266512]]\n"
     ]
    }
   ],
   "source": [
    "# Set up the readout error mitigation by constructing \n",
    "# the mitigator based on the number of qubits, the number of shots, and the readout noise model\n",
    "\n",
    "n_qubits = 2\n",
    "shots = 100000\n",
    "error_probability = 0.1\n",
    "readout_noise = get_readout_noise(error_probability)\n",
    "\n",
    "mitigator = generate_mitigator(n_qubits, shots, readout_noise)"
   ]
  },
  {
   "cell_type": "code",
   "execution_count": 7,
   "metadata": {},
   "outputs": [
    {
     "name": "stdout",
     "output_type": "stream",
     "text": [
      "Empirical probabilities: [0.409600 0.090010 0.089860 0.410530]\n",
      "Mitigated quasi-probabilities: [0.499528 0.000525 0.000331 0.500486]\n",
      "Closest positive probabilities: [0.499335 0.000271 0.000162 0.500232]\n"
     ]
    }
   ],
   "source": [
    "# Now we define an arbitrary circuit and apply the mitigation \n",
    "\n",
    "shots = 100000\n",
    "\n",
    "qc = QuantumCircuit(n_qubits,n_qubits)\n",
    "qc.h(0)\n",
    "qc.cx(0,1) \n",
    "qc.measure(qc.qregs[0],qc.cregs[0])\n",
    "#print(qc)\n",
    "simulator = AerSimulator(noise_model = readout_noise) # Assuming that there is no error in the circuit, just in the measurement\n",
    "counts = simulator.run(qc,shots=shots).result().get_counts(qc)\n",
    "# Normalize the counts to get probabilities\n",
    "probabilities = {k: v / shots for k, v in counts.items()}\n",
    "\n",
    "# Sort the probabilities dictionary by its keys (binary strings converted to integers)\n",
    "print(\"Empirical probabilities:\", (probability_vector:=np.array([probability for state, probability in sorted(probabilities.items(), key=lambda x: int(x[0], 2))])))\n",
    "\n",
    "# Apply the mitigation to the probabilities\n",
    "print(\"Mitigated quasi-probabilities:\", (mitigated_probabilities := np.dot(mitigator, probability_vector)))\n",
    "\n",
    "# Closest positive quasi-probabilities via mitiq function\n",
    "print(\"Closest positive probabilities:\", (closest_probabilities := closest_positive_distribution(mitigated_probabilities)))"
   ]
  },
  {
   "cell_type": "code",
   "execution_count": 46,
   "metadata": {},
   "outputs": [
    {
     "name": "stdout",
     "output_type": "stream",
     "text": [
      "[[1, 1], [1, 1], [0, 0], [1, 1], [1, 1], [1, 1], [1, 1], [1, 1], [0, 0], [1, 1]]\n"
     ]
    }
   ],
   "source": [
    "# If we are interested in generating some samples from the mitigated distribution...\n",
    "samples = 10\n",
    "bitstrings = sample_probability_vector(closest_probabilities, samples)\n",
    "print(bitstrings)"
   ]
  }
 ],
 "metadata": {
  "kernelspec": {
   "display_name": "Python 3",
   "language": "python",
   "name": "python3"
  },
  "language_info": {
   "codemirror_mode": {
    "name": "ipython",
    "version": 3
   },
   "file_extension": ".py",
   "mimetype": "text/x-python",
   "name": "python",
   "nbconvert_exporter": "python",
   "pygments_lexer": "ipython3",
   "version": "3.11.9"
  }
 },
 "nbformat": 4,
 "nbformat_minor": 2
}
