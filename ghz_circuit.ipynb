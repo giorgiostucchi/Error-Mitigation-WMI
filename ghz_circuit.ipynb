{
 "cells": [
  {
   "cell_type": "code",
   "execution_count": 2,
   "metadata": {},
   "outputs": [],
   "source": [
    "from my_rem import *\n",
    "from my_ddd import *\n",
    "from my_lib import *\n",
    "\n",
    "from typing import List, Callable\n",
    "import numpy as np\n",
    "from matplotlib import pyplot as plt\n",
    "\n",
    "import qiskit\n",
    "from qiskit_aer import AerSimulator\n",
    "from qiskit_ibm_runtime import QiskitRuntimeService\n",
    "\n",
    "from mitiq.interface.mitiq_qiskit import to_qiskit\n",
    "from mitiq import ddd, QPROGRAM\n",
    "from mitiq.ddd import insert_ddd_sequences\n",
    "\n",
    "from qiskit import QuantumCircuit, transpile, assemble\n",
    "from qiskit.visualization import plot_histogram\n",
    "from qiskit_aer.noise import NoiseModel, pauli_error, depolarizing_error, phase_damping_error, phase_amplitude_damping_error"
   ]
  },
  {
   "cell_type": "code",
   "execution_count": 3,
   "metadata": {},
   "outputs": [],
   "source": [
    "import cirq\n",
    "\n",
    "# Importing the cirq module\n",
    "\n",
    "# Defining a function for the repeated ixix rule\n",
    "def rep_ixix_rule(window_length: int) -> Callable[[int], QPROGRAM]:\n",
    "    return ddd.rules.repeated_rule(\n",
    "        window_length, [cirq.I, cirq.X, cirq.I, cirq.X]\n",
    "    )\n",
    "\n",
    "# Defining a function for the repeated xx rule\n",
    "def rep_xx_rule(window_length: int) -> Callable[[int], QPROGRAM]:\n",
    "    return ddd.rules.repeated_rule(window_length, [cirq.X, cirq.X])"
   ]
  },
  {
   "cell_type": "code",
   "execution_count": 4,
   "metadata": {},
   "outputs": [],
   "source": [
    "# Error Parameters\n",
    "p_readout_flip = 0.00\n",
    "p_circuit_depolarizing = 0.1\n",
    "gamma_dephasing = 0.1\n",
    "gamma_amplitude_damping = 0.1\n",
    "thermal_population = 0.1\n",
    "\n",
    "# Possible Errors \n",
    "error_meas = pauli_error([('X', p_readout_flip), ('I', 1 - p_readout_flip)])\n",
    "error_depolarizing_1q = depolarizing_error(p_circuit_depolarizing, 1)\n",
    "error_depolarizing_2q = depolarizing_error(p_circuit_depolarizing, 2)\n",
    "error_dephasing_1q = phase_damping_error(gamma_dephasing)\n",
    "error_phase_amplitude_damping = phase_amplitude_damping_error(gamma_dephasing, gamma_amplitude_damping, thermal_population)"
   ]
  },
  {
   "cell_type": "code",
   "execution_count": 5,
   "metadata": {},
   "outputs": [],
   "source": [
    "num_qubits = 2  # Number of qubits in the circuit\n",
    "\n",
    "# Initialize a random circuit\n",
    "num_operations = 5  # Number of initial random operations\n",
    "idle_depth = 20  # Number of idle operations to add\n",
    "circuit = create_random_circuit_with_idle_windows(num_qubits, num_operations, idle_depth)\n",
    "\n",
    "#create the mitigator, that will be applied a posteriori\n",
    "mitigator_shots = 1000\n",
    "readout_noise = get_readout_noise(error_meas)\n",
    "mitigator_instance = generate_mitigator(num_qubits, mitigator_shots, readout_noise, False)"
   ]
  },
  {
   "cell_type": "code",
   "execution_count": 6,
   "metadata": {},
   "outputs": [],
   "source": [
    "def get_circuit(depth: int):\n",
    "    \"\"\"Returns a circuit composed of a GHZ sequence, idle windows,\n",
    "    and finally an inverse GHZ sequence.\n",
    "\n",
    "    Args:\n",
    "        depth: The depth of the idle window in the circuit.\n",
    "    \"\"\"\n",
    "    circuit = qiskit.QuantumCircuit(num_qubits, num_qubits)\n",
    "    circuit.h(0)\n",
    "    circuit.cx(0, 1)\n",
    "    for _ in range(depth):\n",
    "        circuit.id(0)\n",
    "        circuit.id(1)\n",
    "    circuit.cx(0, 1)\n",
    "    circuit.h(0)\n",
    "    circuit.measure(0, 0)\n",
    "    return circuit"
   ]
  },
  {
   "cell_type": "code",
   "execution_count": 13,
   "metadata": {},
   "outputs": [
    {
     "name": "stdout",
     "output_type": "stream",
     "text": [
      "     ┌───┐     ┌───┐┌───┐┌───┐┌───┐┌───┐┌───┐┌───┐┌───┐┌───┐┌───┐┌───┐┌───┐»\n",
      "q_0: ┤ H ├──■──┤ I ├┤ I ├┤ I ├┤ I ├┤ I ├┤ I ├┤ I ├┤ I ├┤ I ├┤ I ├┤ I ├┤ I ├»\n",
      "     └───┘┌─┴─┐├───┤├───┤├───┤├───┤├───┤├───┤├───┤├───┤├───┤├───┤├───┤├───┤»\n",
      "q_1: ─────┤ X ├┤ I ├┤ I ├┤ I ├┤ I ├┤ I ├┤ I ├┤ I ├┤ I ├┤ I ├┤ I ├┤ I ├┤ I ├»\n",
      "          └───┘└───┘└───┘└───┘└───┘└───┘└───┘└───┘└───┘└───┘└───┘└───┘└───┘»\n",
      "c: 2/══════════════════════════════════════════════════════════════════════»\n",
      "                                                                           »\n",
      "«     ┌───┐┌───┐┌───┐┌───┐┌───┐┌───┐┌───┐┌───┐┌───┐┌───┐┌───┐┌───┐┌───┐┌───┐»\n",
      "«q_0: ┤ I ├┤ I ├┤ I ├┤ I ├┤ I ├┤ I ├┤ I ├┤ I ├┤ I ├┤ I ├┤ I ├┤ I ├┤ I ├┤ I ├»\n",
      "«     ├───┤├───┤├───┤├───┤├───┤├───┤├───┤├───┤├───┤├───┤├───┤├───┤├───┤├───┤»\n",
      "«q_1: ┤ I ├┤ I ├┤ I ├┤ I ├┤ I ├┤ I ├┤ I ├┤ I ├┤ I ├┤ I ├┤ I ├┤ I ├┤ I ├┤ I ├»\n",
      "«     └───┘└───┘└───┘└───┘└───┘└───┘└───┘└───┘└───┘└───┘└───┘└───┘└───┘└───┘»\n",
      "«c: 2/══════════════════════════════════════════════════════════════════════»\n",
      "«                                                                           »\n",
      "«     ┌───┐┌───┐┌───┐┌───┐┌───┐┌───┐┌───┐┌───┐┌───┐┌───┐┌───┐┌───┐┌───┐┌───┐»\n",
      "«q_0: ┤ I ├┤ I ├┤ I ├┤ I ├┤ I ├┤ I ├┤ I ├┤ I ├┤ I ├┤ I ├┤ I ├┤ I ├┤ I ├┤ I ├»\n",
      "«     ├───┤├───┤├───┤├───┤├───┤├───┤├───┤├───┤├───┤├───┤├───┤├───┤├───┤├───┤»\n",
      "«q_1: ┤ I ├┤ I ├┤ I ├┤ I ├┤ I ├┤ I ├┤ I ├┤ I ├┤ I ├┤ I ├┤ I ├┤ I ├┤ I ├┤ I ├»\n",
      "«     └───┘└───┘└───┘└───┘└───┘└───┘└───┘└───┘└───┘└───┘└───┘└───┘└───┘└───┘»\n",
      "«c: 2/══════════════════════════════════════════════════════════════════════»\n",
      "«                                                                           »\n",
      "«     ┌───┐┌───┐┌───┐┌───┐┌───┐┌───┐┌───┐┌───┐┌───┐┌───┐     ┌───┐┌─┐\n",
      "«q_0: ┤ I ├┤ I ├┤ I ├┤ I ├┤ I ├┤ I ├┤ I ├┤ I ├┤ I ├┤ I ├──■──┤ H ├┤M├\n",
      "«     ├───┤├───┤├───┤├───┤├───┤├───┤├───┤├───┤├───┤├───┤┌─┴─┐└───┘└╥┘\n",
      "«q_1: ┤ I ├┤ I ├┤ I ├┤ I ├┤ I ├┤ I ├┤ I ├┤ I ├┤ I ├┤ I ├┤ X ├──────╫─\n",
      "«     └───┘└───┘└───┘└───┘└───┘└───┘└───┘└───┘└───┘└───┘└───┘      ║ \n",
      "«c: 2/═════════════════════════════════════════════════════════════╩═\n",
      "«                                                                  0 \n"
     ]
    }
   ],
   "source": [
    "circuit = get_circuit(50)\n",
    "print(circuit)"
   ]
  },
  {
   "cell_type": "code",
   "execution_count": 17,
   "metadata": {},
   "outputs": [
    {
     "name": "stdout",
     "output_type": "stream",
     "text": [
      "Original circuit\n",
      "     ┌───┐     ┌───┐┌───┐┌───┐┌───┐┌───┐┌───┐┌───┐┌───┐┌───┐┌───┐┌───┐┌───┐»\n",
      "q_0: ┤ H ├──■──┤ I ├┤ I ├┤ I ├┤ I ├┤ I ├┤ I ├┤ I ├┤ I ├┤ I ├┤ I ├┤ I ├┤ I ├»\n",
      "     └───┘┌─┴─┐├───┤├───┤├───┤├───┤├───┤├───┤├───┤├───┤├───┤├───┤├───┤├───┤»\n",
      "q_1: ─────┤ X ├┤ I ├┤ I ├┤ I ├┤ I ├┤ I ├┤ I ├┤ I ├┤ I ├┤ I ├┤ I ├┤ I ├┤ I ├»\n",
      "          └───┘└───┘└───┘└───┘└───┘└───┘└───┘└───┘└───┘└───┘└───┘└───┘└───┘»\n",
      "c: 2/══════════════════════════════════════════════════════════════════════»\n",
      "                                                                           »\n",
      "«     ┌───┐┌───┐┌───┐┌───┐┌───┐┌───┐┌───┐┌───┐┌───┐┌───┐┌───┐┌───┐┌───┐┌───┐»\n",
      "«q_0: ┤ I ├┤ I ├┤ I ├┤ I ├┤ I ├┤ I ├┤ I ├┤ I ├┤ I ├┤ I ├┤ I ├┤ I ├┤ I ├┤ I ├»\n",
      "«     ├───┤├───┤├───┤├───┤├───┤├───┤├───┤├───┤├───┤├───┤├───┤├───┤├───┤├───┤»\n",
      "«q_1: ┤ I ├┤ I ├┤ I ├┤ I ├┤ I ├┤ I ├┤ I ├┤ I ├┤ I ├┤ I ├┤ I ├┤ I ├┤ I ├┤ I ├»\n",
      "«     └───┘└───┘└───┘└───┘└───┘└───┘└───┘└───┘└───┘└───┘└───┘└───┘└───┘└───┘»\n",
      "«c: 2/══════════════════════════════════════════════════════════════════════»\n",
      "«                                                                           »\n",
      "«     ┌───┐┌───┐┌───┐┌───┐┌───┐┌───┐┌───┐┌───┐┌───┐┌───┐┌───┐┌───┐┌───┐┌───┐»\n",
      "«q_0: ┤ I ├┤ I ├┤ I ├┤ I ├┤ I ├┤ I ├┤ I ├┤ I ├┤ I ├┤ I ├┤ I ├┤ I ├┤ I ├┤ I ├»\n",
      "«     ├───┤├───┤├───┤├───┤├───┤├───┤├───┤├───┤├───┤├───┤├───┤├───┤├───┤├───┤»\n",
      "«q_1: ┤ I ├┤ I ├┤ I ├┤ I ├┤ I ├┤ I ├┤ I ├┤ I ├┤ I ├┤ I ├┤ I ├┤ I ├┤ I ├┤ I ├»\n",
      "«     └───┘└───┘└───┘└───┘└───┘└───┘└───┘└───┘└───┘└───┘└───┘└───┘└───┘└───┘»\n",
      "«c: 2/══════════════════════════════════════════════════════════════════════»\n",
      "«                                                                           »\n",
      "«     ┌───┐┌───┐┌───┐┌───┐┌───┐┌───┐┌───┐┌───┐┌───┐┌───┐     ┌───┐┌─┐\n",
      "«q_0: ┤ I ├┤ I ├┤ I ├┤ I ├┤ I ├┤ I ├┤ I ├┤ I ├┤ I ├┤ I ├──■──┤ H ├┤M├\n",
      "«     ├───┤├───┤├───┤├───┤├───┤├───┤├───┤├───┤├───┤├───┤┌─┴─┐└───┘└╥┘\n",
      "«q_1: ┤ I ├┤ I ├┤ I ├┤ I ├┤ I ├┤ I ├┤ I ├┤ I ├┤ I ├┤ I ├┤ X ├──────╫─\n",
      "«     └───┘└───┘└───┘└───┘└───┘└───┘└───┘└───┘└───┘└───┘└───┘      ║ \n",
      "«c: 2/═════════════════════════════════════════════════════════════╩═\n",
      "«                                                                  0 \n",
      "Inserting DDD sequences ... \n",
      "\n",
      "     ┌───┐     ┌───┐┌───┐┌───┐┌───┐┌───┐┌───┐┌───┐┌───┐┌───┐┌───┐┌───┐┌───┐»\n",
      "q_0: ┤ H ├──■──┤ X ├┤ X ├┤ X ├┤ X ├┤ X ├┤ X ├┤ X ├┤ X ├┤ X ├┤ X ├┤ X ├┤ X ├»\n",
      "     └───┘┌─┴─┐├───┤├───┤├───┤├───┤├───┤├───┤├───┤├───┤├───┤├───┤├───┤├───┤»\n",
      "q_1: ─────┤ X ├┤ X ├┤ X ├┤ X ├┤ X ├┤ X ├┤ X ├┤ X ├┤ X ├┤ X ├┤ X ├┤ X ├┤ X ├»\n",
      "          └───┘└───┘└───┘└───┘└───┘└───┘└───┘└───┘└───┘└───┘└───┘└───┘└───┘»\n",
      "c: 2/══════════════════════════════════════════════════════════════════════»\n",
      "                                                                           »\n",
      "«     ┌───┐┌───┐┌───┐┌───┐┌───┐┌───┐┌───┐┌───┐┌───┐┌───┐┌───┐┌───┐┌───┐┌───┐»\n",
      "«q_0: ┤ X ├┤ X ├┤ X ├┤ X ├┤ X ├┤ X ├┤ X ├┤ X ├┤ X ├┤ X ├┤ X ├┤ X ├┤ X ├┤ X ├»\n",
      "«     ├───┤├───┤├───┤├───┤├───┤├───┤├───┤├───┤├───┤├───┤├───┤├───┤├───┤├───┤»\n",
      "«q_1: ┤ X ├┤ X ├┤ X ├┤ X ├┤ X ├┤ X ├┤ X ├┤ X ├┤ X ├┤ X ├┤ X ├┤ X ├┤ X ├┤ X ├»\n",
      "«     └───┘└───┘└───┘└───┘└───┘└───┘└───┘└───┘└───┘└───┘└───┘└───┘└───┘└───┘»\n",
      "«c: 2/══════════════════════════════════════════════════════════════════════»\n",
      "«                                                                           »\n",
      "«     ┌───┐┌───┐┌───┐┌───┐┌───┐┌───┐┌───┐┌───┐┌───┐┌───┐┌───┐┌───┐┌───┐┌───┐»\n",
      "«q_0: ┤ X ├┤ X ├┤ X ├┤ X ├┤ X ├┤ X ├┤ X ├┤ X ├┤ X ├┤ X ├┤ X ├┤ X ├┤ X ├┤ X ├»\n",
      "«     ├───┤├───┤├───┤├───┤├───┤├───┤├───┤├───┤├───┤├───┤├───┤├───┤├───┤├───┤»\n",
      "«q_1: ┤ X ├┤ X ├┤ X ├┤ X ├┤ X ├┤ X ├┤ X ├┤ X ├┤ X ├┤ X ├┤ X ├┤ X ├┤ X ├┤ X ├»\n",
      "«     └───┘└───┘└───┘└───┘└───┘└───┘└───┘└───┘└───┘└───┘└───┘└───┘└───┘└───┘»\n",
      "«c: 2/══════════════════════════════════════════════════════════════════════»\n",
      "«                                                                           »\n",
      "«     ┌───┐┌───┐┌───┐┌───┐┌───┐┌───┐┌───┐┌───┐┌───┐┌───┐     ┌───┐     ┌─┐\n",
      "«q_0: ┤ X ├┤ X ├┤ X ├┤ X ├┤ X ├┤ X ├┤ X ├┤ X ├┤ X ├┤ X ├──■──┤ H ├─────┤M├\n",
      "«     ├───┤├───┤├───┤├───┤├───┤├───┤├───┤├───┤├───┤├───┤┌─┴─┐├───┤┌───┐└╥┘\n",
      "«q_1: ┤ X ├┤ X ├┤ X ├┤ X ├┤ X ├┤ X ├┤ X ├┤ X ├┤ X ├┤ X ├┤ X ├┤ X ├┤ X ├─╫─\n",
      "«     └───┘└───┘└───┘└───┘└───┘└───┘└───┘└───┘└───┘└───┘└───┘└───┘└───┘ ║ \n",
      "«c: 2/══════════════════════════════════════════════════════════════════╩═\n",
      "«                                                                       0 \n",
      "Running the circuit ... for 100000 repetitions \n",
      "\n",
      "{'01': 46121, '00': 53879}\n",
      "{'00': 0.53879, '01': 0.46121, '10': 0.0, '11': 0.0}\n"
     ]
    }
   ],
   "source": [
    "# Define other parameters\n",
    "reps = 100000\n",
    "noise = get_combined_noise(error_meas, error_phase_amplitude_damping)\n",
    "ddd_flag = True\n",
    "shots = 10000\n",
    "ddd_sequence = rep_xx_rule  # Use appropriate DDD sequence from mitiq\n",
    "\n",
    "# Apply DDD (if required) and run the circuit\n",
    "counts = apply_ddd_and_run(\n",
    "    circuit,\n",
    "    noise=noise,\n",
    "    reps=reps,\n",
    "    ddd=ddd_flag,\n",
    "    ddd_rule=ddd_sequence,\n",
    "    output=True\n",
    ")\n",
    "\n",
    "print(counts)\n",
    "\n",
    "# Apply the mitigator (if required) to the results\n",
    "probabilities = apply_mitigator(\n",
    "    counts,\n",
    "    n_qubits=num_qubits,\n",
    "    reps=reps,\n",
    "    mitigator_instance=mitigator_instance,\n",
    "    output=False\n",
    ")\n",
    "\n",
    "print(probabilities)"
   ]
  },
  {
   "cell_type": "code",
   "execution_count": 15,
   "metadata": {},
   "outputs": [
    {
     "name": "stdout",
     "output_type": "stream",
     "text": [
      "Running with no noise, no mitigation ... \n",
      "\n",
      "Final Probabilities={'00': 1.0, '01': 0.0, '10': 0.0, '11': 0.0}\n",
      "\n",
      " \n",
      "\n",
      "Running with noise, no mitigation ... \n",
      "\n",
      "Running with noise, mitigation True, DDD False ... \n",
      "\n",
      "Running with noise, mitigation False, DDD True ... \n",
      "\n",
      "Running with noise, mitigation True, DDD True ... \n",
      "\n",
      "[{'00': 1.0, '01': 0.0, '10': 0.0, '11': 0.0}, {'00': 0.95, '01': 0.05, '10': 0.0, '11': 0.0}, {'00': 0.942, '01': 0.058, '10': 0.0, '11': 0.0}, {'00': 0.537, '01': 0.463, '10': 0.0, '11': 0.0}, {'00': 0.536, '01': 0.464, '10': 0.0, '11': 0.0}]\n"
     ]
    }
   ],
   "source": [
    "# Assuming you have already defined the circuit, noise model, and other necessary parameters\n",
    "result_no_noise_no_mit, result_noise_no_mit, result_noise_rem_no_ddd, result_noise_no_rem_ddd, result_noise_rem_ddd = run_cases(circuit, noise=noise, reps=1000, n_qubits=2, ddd_rule=ddd_sequence)\n",
    "results_list = [result_no_noise_no_mit, result_noise_no_mit, result_noise_rem_no_ddd, result_noise_no_rem_ddd, result_noise_rem_ddd]\n",
    "print(results_list)"
   ]
  },
  {
   "cell_type": "code",
   "execution_count": 16,
   "metadata": {},
   "outputs": [
    {
     "data": {
      "text/plain": [
       "Text(0, 0.5, 'Probabilities')"
      ]
     },
     "execution_count": 16,
     "metadata": {},
     "output_type": "execute_result"
    },
    {
     "data": {
      "image/png": "[encoded data removed]",
      "text/plain": [
       "<Figure size 640x480 with 1 Axes>"
      ]
     },
     "metadata": {},
     "output_type": "display_data"
    }
   ],
   "source": [
    "from qiskit.visualization import plot_histogram\n",
    "import matplotlib.pyplot as plt\n",
    "\n",
    "\n",
    "labels = [\n",
    "    'No Noise, No Mitigation', 'Noise, No Mitigation',\n",
    "    'Noise, REM on, DDD off', 'Noise, REM off, DDD on', 'Noise, REM on, DDD on'\n",
    "]\n",
    "\n",
    "\n",
    "# Create a figure and a set of subplots\n",
    "fig, ax = plt.subplots()\n",
    "\n",
    "# Now, use the ax parameter to specify where to plot the histogram\n",
    "plot_histogram(results_list, legend=labels, bar_labels=False, ax=ax)\n",
    "ax.set_ylabel('Probabilities')"
   ]
  },
  {
   "cell_type": "code",
   "execution_count": null,
   "metadata": {},
   "outputs": [],
   "source": []
  }
 ],
 "metadata": {
  "kernelspec": {
   "display_name": "qiskit",
   "language": "python",
   "name": "python3"
  },
  "language_info": {
   "codemirror_mode": {
    "name": "ipython",
    "version": 3
   },
   "file_extension": ".py",
   "mimetype": "text/x-python",
   "name": "python",
   "nbconvert_exporter": "python",
   "pygments_lexer": "ipython3",
   "version": "3.11.9"
  }
 },
 "nbformat": 4,
 "nbformat_minor": 2
}
