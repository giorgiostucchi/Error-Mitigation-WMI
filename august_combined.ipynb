{
 "cells": [
  {
   "cell_type": "markdown",
   "metadata": {},
   "source": [
    "# Combined Mitigation (8/8/2024)"
   ]
  },
  {
   "cell_type": "code",
   "execution_count": 65,
   "metadata": {},
   "outputs": [],
   "source": [
    "from my_rem import *\n",
    "from my_ddd import *\n",
    "from typing import List, Callable\n",
    "import numpy as np\n",
    "from matplotlib import pyplot as plt\n",
    "\n",
    "import qiskit\n",
    "from qiskit_aer import AerSimulator\n",
    "from qiskit_ibm_runtime import QiskitRuntimeService\n",
    "\n",
    "from mitiq.interface.mitiq_qiskit import to_qiskit\n",
    "from mitiq import ddd, QPROGRAM\n",
    "from mitiq.ddd import insert_ddd_sequences\n",
    "\n",
    "from qiskit import QuantumCircuit, transpile, assemble\n",
    "from qiskit.visualization import plot_histogram\n",
    "from qiskit_aer.noise import NoiseModel, pauli_error, depolarizing_error, phase_damping_error, phase_amplitude_damping_error"
   ]
  },
  {
   "cell_type": "code",
   "execution_count": 66,
   "metadata": {},
   "outputs": [],
   "source": [
    "# Error Parameters\n",
    "p_readout_flip = 0.00\n",
    "p_circuit_depolarizing = 0.1\n",
    "gamma_dephasing = 0.1\n",
    "gamma_amplitude_damping = 0.1\n",
    "thermal_population = 0.1\n",
    "\n",
    "# Possible Errors \n",
    "error_meas = pauli_error([('X', p_readout_flip), ('I', 1 - p_readout_flip)])\n",
    "error_depolarizing_1q = depolarizing_error(p_circuit_depolarizing, 1)\n",
    "error_depolarizing_2q = depolarizing_error(p_circuit_depolarizing, 2)\n",
    "error_dephasing_1q = phase_damping_error(gamma_dephasing)\n",
    "error_phase_amplitude_damping = phase_amplitude_damping_error(gamma_dephasing, gamma_amplitude_damping, thermal_population)"
   ]
  },
  {
   "cell_type": "code",
   "execution_count": 67,
   "metadata": {},
   "outputs": [],
   "source": [
    "def get_combined_noise(error_meas: QuantumError = None, \n",
    "                       error_1q: QuantumError = None, \n",
    "                       error_2q: QuantumError = None):\n",
    "    \"\"\"Create a noise model with specified errors during measurement and operations.\"\"\"\n",
    "    \n",
    "    noise_model = NoiseModel()\n",
    "    \n",
    "    # Add measurement error to all qubits if specified\n",
    "    if error_meas is not None:\n",
    "        noise_model.add_all_qubit_quantum_error(error_meas, \"measure\")\n",
    "    \n",
    "    # Add single-qubit depolarizing error to all single-qubit gates if specified\n",
    "    if error_1q is not None:\n",
    "        single_qubit_gates = [\n",
    "            'u1', 'u2', 'u3', 'x', 'y', 'z', 'h', 's', 'sdg', 't', 'tdg', 'id'\n",
    "        ]\n",
    "        for gate in single_qubit_gates:\n",
    "            noise_model.add_all_qubit_quantum_error(error_1q, gate)\n",
    "    \n",
    "    # Add two-qubit depolarizing error to all two-qubit gates if specified\n",
    "    if error_2q is not None:\n",
    "        noise_model.add_all_qubit_quantum_error(error_2q, 'cx')\n",
    "    \n",
    "    return noise_model"
   ]
  },
  {
   "cell_type": "code",
   "execution_count": 68,
   "metadata": {},
   "outputs": [
    {
     "name": "stdout",
     "output_type": "stream",
     "text": [
      "0: ───I───I───X───I───X───I───X───I───X───I───\n",
      "0: ───X───X───X───X───X───X───X───X───X───X───\n",
      "0: ───I───I───I───X───I───I───X───I───I───I───\n"
     ]
    }
   ],
   "source": [
    "import cirq\n",
    "\n",
    "# Importing the cirq module\n",
    "\n",
    "# Defining a function for the repeated ixix rule\n",
    "def rep_ixix_rule(window_length: int) -> Callable[[int], QPROGRAM]:\n",
    "    return ddd.rules.repeated_rule(\n",
    "        window_length, [cirq.I, cirq.X, cirq.I, cirq.X]\n",
    "    )\n",
    "\n",
    "# Defining a function for the repeated xx rule\n",
    "def rep_xx_rule(window_length: int) -> Callable[[int], QPROGRAM]:\n",
    "    return ddd.rules.repeated_rule(window_length, [cirq.X, cirq.X])\n",
    "\n",
    "# Set DDD sequences to test.\n",
    "rules = [rep_ixix_rule, rep_xx_rule, ddd.rules.xx]\n",
    "\n",
    "# Test the sequence insertion\n",
    "for rule in rules:\n",
    "    print(rule(10))"
   ]
  },
  {
   "cell_type": "code",
   "execution_count": 69,
   "metadata": {},
   "outputs": [],
   "source": [
    "def run_and_mitigate(circuit, noise: NoiseModel=None, reps=1000, mitigator=False, ddd=False, n_qubits=None, shots=None, ddd_rule=None, output=False):\n",
    "    \"\"\"\n",
    "    High-level function to apply error mitigation and/or dynamical decoupling.\n",
    "\n",
    "    Parameters:\n",
    "    - circuit: The quantum circuit to modify.\n",
    "    - noise: The noise model to apply to the circuit.\n",
    "    - reps: Number of repetitions to run the circuit.\n",
    "    - mitigator: Boolean flag to apply error mitigation.\n",
    "    - ddd: Boolean flag to apply DDD rules.\n",
    "    - n_qubits: Number of qubits for the mitigator (only needed if mitigator is True).\n",
    "    - shots: Number of shots for the mitigator (only needed if mitigator is True).\n",
    "    - ddd_rule: The rule to apply for DDD (only needed if ddd is True).\n",
    "    - output: Boolean flag to control the print statements.\n",
    "    \"\"\"\n",
    "    new_circuit = circuit.copy() # To leave circuit invariant after execution\n",
    "\n",
    "    if mitigator:\n",
    "        if n_qubits is None or shots is None:\n",
    "            raise ValueError(\"n_qubits and shots must be specified if mitigator is True\")\n",
    "        \n",
    "        if output:\n",
    "            print(\"Computing Mitigator ... \\n\")\n",
    "        # Assuming get_readout_noise and generate_mitigator are defined elsewhere in the notebook\n",
    "        readout_noise = get_readout_noise(error_meas)\n",
    "        mitigator_instance = generate_mitigator(n_qubits, shots, readout_noise, False)\n",
    "        if output:\n",
    "            print(mitigator_instance)\n",
    "    \n",
    "    if ddd:\n",
    "        if ddd_rule is None:\n",
    "            raise ValueError(\"ddd_rule must be specified if ddd is True\")\n",
    "        \n",
    "        if output:\n",
    "            print(\"Original circuit\")\n",
    "            print(circuit)\n",
    "            print(\"Inserting DDD sequences ... \\n\")\n",
    "        new_circuit = insert_ddd_sequences(circuit, ddd_rule)\n",
    "        if output:\n",
    "            print(new_circuit)\n",
    "\n",
    "    if output:\n",
    "        print(f\"Running the circuit ... for {reps} repetitions \\n\")\n",
    "    simulator = AerSimulator(noise_model=noise)\n",
    "    counts = simulator.run(new_circuit, shots=reps).result().get_counts(new_circuit)\n",
    "    \n",
    "    # Normalize the counts to get probabilities\n",
    "    num_bit_strings = 2 ** n_qubits\n",
    "    bit_strings = [format(i, '0{}b'.format(n_qubits)) for i in range(num_bit_strings)]\n",
    "    \n",
    "    # Initialize probabilities dictionary with all bit strings and initial probability 0.0\n",
    "    probabilities = {bit_string: 0.0 for bit_string in bit_strings}\n",
    "    \n",
    "    # Update probabilities based on counts\n",
    "    for k, v in counts.items():\n",
    "        probabilities[k] = v / reps\n",
    "\n",
    "    if mitigator:\n",
    "        probability_vector = np.array([probability for state, probability in sorted(probabilities.items(), key=lambda x: int(x[0], 2))])\n",
    "        mitigated_probabilities = np.dot(mitigator_instance, probability_vector)\n",
    "        closest_probabilities = closest_positive_distribution(mitigated_probabilities)\n",
    "        if output:\n",
    "            print(\"Empirical probabilities:\", probability_vector)\n",
    "            print(\"Mitigated quasi-probabilities:\", mitigated_probabilities)\n",
    "            print(\"Closest positive probabilities:\", closest_probabilities)\n",
    "        probabilities = {state: prob for state, prob in zip(sorted(probabilities, key=lambda x: int(x, 2)), closest_probabilities)}\n",
    "    \n",
    "    if output:\n",
    "        print(f\"Final Probabilities={probabilities}\")\n",
    "        print(\"\\n \\n\")\n",
    "    \n",
    "    return probabilities\n"
   ]
  },
  {
   "cell_type": "markdown",
   "metadata": {},
   "source": [
    "# Example Usage"
   ]
  },
  {
   "cell_type": "code",
   "execution_count": 70,
   "metadata": {},
   "outputs": [],
   "source": [
    "# Initialize a random circuit\n",
    "\n",
    "num_qubits = 2  # Number of qubits in the circuit\n",
    "num_operations = 5  # Number of initial random operations\n",
    "idle_depth = 20  # Number of idle operations to add\n",
    "circuit = create_random_circuit_with_idle_windows(num_qubits, num_operations, idle_depth)"
   ]
  },
  {
   "cell_type": "code",
   "execution_count": 71,
   "metadata": {},
   "outputs": [
    {
     "name": "stdout",
     "output_type": "stream",
     "text": [
      "     ┌───┐┌───┐┌───┐┌───┐┌───┐┌───┐┌───┐┌───┐┌───┐┌───┐┌───┐┌───┐┌───┐┌───┐»\n",
      "q_0: ┤ X ├┤ X ├┤ X ├┤ I ├┤ I ├┤ I ├┤ I ├┤ I ├┤ I ├┤ I ├┤ I ├┤ I ├┤ I ├┤ I ├»\n",
      "     └───┘└───┘└─┬─┘├───┤├───┤├───┤├───┤├───┤├───┤├───┤├───┤├───┤├───┤└┬─┬┘»\n",
      "q_1: ────────────■──┤ I ├┤ I ├┤ I ├┤ I ├┤ I ├┤ I ├┤ I ├┤ I ├┤ I ├┤ I ├─┤M├─»\n",
      "                    └───┘└───┘└───┘└───┘└───┘└───┘└───┘└───┘└───┘└───┘ └╥┘ »\n",
      "c: 2/═══════════════════════════════════════════════════════════════════╩══»\n",
      "                                                                        1  »\n",
      "«     ┌───┐┌─┐\n",
      "«q_0: ┤ I ├┤M├\n",
      "«     └───┘└╥┘\n",
      "«q_1: ──────╫─\n",
      "«           ║ \n",
      "«c: 2/══════╩═\n",
      "«           0 \n",
      "{'00': 0.51406, '01': 0.20949, '10': 0.18755, '11': 0.0889}\n"
     ]
    }
   ],
   "source": [
    "# Define parameters for the high-level function\n",
    "reps = 100000\n",
    "noise = get_combined_noise(None, error_phase_amplitude_damping)\n",
    "mitigator_flag = False\n",
    "ddd_flag = True\n",
    "n_qubits = 2\n",
    "shots = 10000\n",
    "ddd_sequence = ddd.rules.yy  # Use appropriate DDD sequence from mitiq\n",
    "\n",
    "# Apply the high-level function\n",
    "results = run_and_mitigate(\n",
    "    circuit,\n",
    "    noise = noise,\n",
    "    reps = reps,\n",
    "    mitigator=mitigator_flag,\n",
    "    ddd=ddd_flag,\n",
    "    n_qubits=n_qubits,\n",
    "    shots=shots,\n",
    "    ddd_rule=ddd_sequence,\n",
    "    output=False\n",
    ")\n",
    "print(circuit)\n",
    "print(results)"
   ]
  },
  {
   "cell_type": "code",
   "execution_count": 72,
   "metadata": {},
   "outputs": [],
   "source": [
    "import numpy as np\n",
    "from matplotlib import pyplot as plt\n",
    "\n",
    "def run_cases(circuit, noise: NoiseModel=None, reps=1000, n_qubits=None, shots=None, ddd_rule=None):\n",
    "    \"\"\"\n",
    "    Runs the `run_and_mitigate` function for five cases and plots the results in a merged histogram.\n",
    "    \n",
    "    Parameters:\n",
    "    - circuit: The quantum circuit to modify.\n",
    "    - noise: The noise model to apply to the circuit.\n",
    "    - reps: Number of repetitions to run the circuit.\n",
    "    - n_qubits: Number of qubits for the mitigator.\n",
    "    - shots: Number of shots for the mitigator.\n",
    "    - ddd_rule: The rule to apply for DDD.\n",
    "    \"\"\"\n",
    "    \n",
    "    # Case 1: No noise, no mitigation\n",
    "    print(\"Running with no noise, no mitigation ... \\n\")\n",
    "    result_no_noise_no_mit = run_and_mitigate(circuit, noise=None, reps=reps, mitigator=False, ddd=False, n_qubits=n_qubits, shots=shots, ddd_rule=ddd_rule)\n",
    "    \n",
    "    # Case 2: Noise, no mitigation\n",
    "    print(\"Running with noise, no mitigation ... \\n\")\n",
    "    result_noise_no_mit = run_and_mitigate(circuit, noise=noise, reps=reps, mitigator=False, ddd=False, n_qubits=n_qubits, shots=shots, ddd_rule=ddd_rule)\n",
    "    \n",
    "    # Case 3: Noise, mitigation True, DDD False\n",
    "    print(\"Running with noise, mitigation True, DDD False  \\n\")\n",
    "    result_noise_rem_no_ddd = run_and_mitigate(circuit, noise=noise, reps=reps, mitigator=True, ddd=False, n_qubits=n_qubits, shots=shots, ddd_rule=ddd_rule)\n",
    "    \n",
    "    # Case 4: Noise, mitigation False, DDD True\n",
    "    print(\"Running with noise, mitigation False, DDD True  \\n\")\n",
    "    result_noise_no_rem_ddd = run_and_mitigate(circuit, noise=noise, reps=reps, mitigator=False, ddd=True, n_qubits=n_qubits, shots=shots, ddd_rule=ddd_rule)\n",
    "    \n",
    "    # Case 5: Noise, mitigation True, DDD True\n",
    "    print(\"Running with noise, mitigation True, DDD True  \\n\")\n",
    "    result_noise_rem_ddd = run_and_mitigate(circuit, noise=noise, reps=reps, mitigator=True, ddd=True, n_qubits=n_qubits, shots=shots, ddd_rule=ddd_rule)\n",
    "    \n",
    "    return result_no_noise_no_mit, result_noise_no_mit, result_noise_rem_no_ddd, result_noise_no_rem_ddd, result_noise_rem_ddd\n"
   ]
  },
  {
   "cell_type": "code",
   "execution_count": 73,
   "metadata": {},
   "outputs": [],
   "source": [
    "# Error Parameters     REPEATED FROM ABOVE , TO BE CANCELLED\n",
    "p_readout_flip = 0.0\n",
    "p_circuit_depolarizing = 0.1\n",
    "gamma_dephasing = 0.1\n",
    "gamma_amplitude_damping = 0.0\n",
    "thermal_population = 0.0\n",
    "\n",
    "# Possible Errors \n",
    "error_meas = pauli_error([('X', p_readout_flip), ('I', 1 - p_readout_flip)])\n",
    "error_depolarizing_1q = depolarizing_error(p_circuit_depolarizing, 1)\n",
    "error_depolarizing_2q = depolarizing_error(p_circuit_depolarizing, 2)\n",
    "error_dephasing_1q = phase_damping_error(gamma_dephasing)\n",
    "error_phase_amplitude_damping = phase_amplitude_damping_error(gamma_dephasing, gamma_amplitude_damping, thermal_population)"
   ]
  },
  {
   "cell_type": "code",
   "execution_count": 74,
   "metadata": {},
   "outputs": [
    {
     "name": "stdout",
     "output_type": "stream",
     "text": [
      "Running with no noise, no mitigation ... \n",
      "\n",
      "Running with noise, no mitigation ... \n",
      "\n",
      "Running with noise, mitigation True, DDD False  \n",
      "\n",
      "Running with noise, mitigation False, DDD True  \n",
      "\n",
      "Running with noise, mitigation True, DDD True  \n",
      "\n",
      "[{'00': 1.0, '01': 0.0, '10': 0.0, '11': 0.0}, {'00': 0.41427, '01': 0.26011, '10': 0.20067, '11': 0.12495}, {'00': 0.41392, '01': 0.2608, '10': 0.2011, '11': 0.12418}, {'00': 0.39492, '01': 0.24679, '10': 0.22191, '11': 0.13638}, {'00': 0.39305, '01': 0.24856, '10': 0.21997, '11': 0.13842}]\n"
     ]
    }
   ],
   "source": [
    "# Assuming you have already defined the circuit, noise model, and other necessary parameters\n",
    "reps = 100000\n",
    "noise = get_combined_noise(error_meas, error_depolarizing_1q)\n",
    "#print(noise)\n",
    "n_qubits = 2\n",
    "shots = 10000\n",
    "ddd_sequence = rep_ixix_rule  # Use appropriate DDD sequence from mitiq\n",
    "\n",
    "result_no_noise_no_mit, result_noise_no_mit, result_noise_rem_no_ddd, result_noise_no_rem_ddd, result_noise_rem_ddd = run_cases(circuit, noise=noise, reps=100000, n_qubits=2, shots=10000, ddd_rule=ddd_sequence)\n",
    "results_list = [result_no_noise_no_mit, result_noise_no_mit, result_noise_rem_no_ddd, result_noise_no_rem_ddd, result_noise_rem_ddd]\n",
    "print(results_list)"
   ]
  },
  {
   "cell_type": "code",
   "execution_count": 75,
   "metadata": {},
   "outputs": [
    {
     "data": {
      "text/plain": [
       "Text(0, 0.5, 'Probabilities')"
      ]
     },
     "execution_count": 75,
     "metadata": {},
     "output_type": "execute_result"
    },
    {
     "data": {
      "image/png": "[encoded data removed]",
      "text/plain": [
       "<Figure size 640x480 with 1 Axes>"
      ]
     },
     "metadata": {},
     "output_type": "display_data"
    }
   ],
   "source": [
    "from qiskit.visualization import plot_histogram\n",
    "import matplotlib.pyplot as plt\n",
    "\n",
    "\n",
    "labels = [\n",
    "    'No Noise, No Mitigation', 'Noise, No Mitigation',\n",
    "    'Noise, REM on, DDD off', 'Noise, REM off, DDD on', 'Noise, REM on, DDD on'\n",
    "]\n",
    "\n",
    "\n",
    "# Create a figure and a set of subplots\n",
    "fig, ax = plt.subplots()\n",
    "\n",
    "# Now, use the ax parameter to specify where to plot the histogram\n",
    "plot_histogram(results_list, legend=labels, bar_labels=False, ax=ax)\n",
    "ax.set_ylabel('Probabilities')"
   ]
  },
  {
   "cell_type": "code",
   "execution_count": null,
   "metadata": {},
   "outputs": [],
   "source": []
  },
  {
   "cell_type": "code",
   "execution_count": null,
   "metadata": {},
   "outputs": [],
   "source": []
  }
 ],
 "metadata": {
  "kernelspec": {
   "display_name": "qiskit",
   "language": "python",
   "name": "python3"
  },
  "language_info": {
   "codemirror_mode": {
    "name": "ipython",
    "version": 3
   },
   "file_extension": ".py",
   "mimetype": "text/x-python",
   "name": "python",
   "nbconvert_exporter": "python",
   "pygments_lexer": "ipython3",
   "version": "3.9.19"
  }
 },
 "nbformat": 4,
 "nbformat_minor": 2
}
