{
 "cells": [
  {
   "cell_type": "markdown",
   "metadata": {
    "tags": [
     "remove_cell"
    ]
   },
   "source": [
    "# Adding DDD"
   ]
  },
  {
   "cell_type": "code",
   "execution_count": 17,
   "metadata": {},
   "outputs": [],
   "source": [
    "from my_rem import *\n",
    "from my_ddd import *\n",
    "from typing import List, Callable\n",
    "import numpy as np\n",
    "from matplotlib import pyplot as plt\n",
    "\n",
    "import qiskit\n",
    "from qiskit_aer import AerSimulator\n",
    "from qiskit_ibm_runtime import QiskitRuntimeService\n",
    "\n",
    "from mitiq.interface.mitiq_qiskit import to_qiskit\n",
    "from mitiq import ddd, QPROGRAM\n",
    "from mitiq.ddd import insert_ddd_sequences"
   ]
  },
  {
   "cell_type": "code",
   "execution_count": 86,
   "metadata": {},
   "outputs": [
    {
     "name": "stdout",
     "output_type": "stream",
     "text": [
      "States:\n",
      "['00', '01', '10', '11']\n",
      "00 becomes {'11': 990, '01': 8991, '10': 8912, '00': 81107}\n",
      "01 becomes {'11': 9004, '00': 8942, '10': 982, '01': 81072}\n",
      "10 becomes {'01': 975, '11': 8903, '10': 81093, '00': 9029}\n",
      "11 becomes {'01': 9081, '00': 995, '10': 9013, '11': 80911}\n",
      "\n",
      "Confusion Matrix:\n",
      "[[0.811070 0.089910 0.089120 0.009900]\n",
      " [0.089420 0.810720 0.009820 0.090040]\n",
      " [0.090290 0.009750 0.810930 0.089030]\n",
      " [0.009950 0.090810 0.090130 0.809110]] \n",
      "\n",
      "Mitigator:\n",
      "[[1.263669 -0.140200 -0.138892 0.015423]\n",
      " [-0.139427 1.264510 0.015652 -0.140734]\n",
      " [-0.140755 0.015994 1.263891 -0.139129]\n",
      " [0.015788 -0.141979 -0.140839 1.267030]]\n"
     ]
    }
   ],
   "source": [
    "n_qubits = 2\n",
    "shots = 100000\n",
    "error_probability = 0.1\n",
    "readout_noise = get_readout_noise(error_probability)\n",
    "\n",
    "mitigator = generate_mitigator(n_qubits, shots, readout_noise)"
   ]
  },
  {
   "cell_type": "code",
   "execution_count": 87,
   "metadata": {},
   "outputs": [
    {
     "name": "stdout",
     "output_type": "stream",
     "text": [
      "0: ───I───I───X───I───X───I───X───I───X───I───\n",
      "0: ───X───X───X───X───X───X───X───X───X───X───\n",
      "0: ───I───I───I───X───I───I───X───I───I───I───\n"
     ]
    }
   ],
   "source": [
    "import cirq\n",
    "\n",
    "def rep_ixix_rule(window_length: int) -> Callable[[int], QPROGRAM]:\n",
    "    return ddd.rules.repeated_rule(\n",
    "        window_length, [cirq.I, cirq.X, cirq.I, cirq.X]\n",
    "    )\n",
    "\n",
    "def rep_xx_rule(window_length: int) -> Callable[[int], QPROGRAM]:\n",
    "    return ddd.rules.repeated_rule(window_length, [cirq.X, cirq.X])\n",
    "\n",
    "# Set DDD sequences to test.\n",
    "rules = [rep_ixix_rule, rep_xx_rule, ddd.rules.xx]\n",
    "\n",
    "# Test the sequence insertion\n",
    "for rule in rules:\n",
    "    print(rule(10))"
   ]
  },
  {
   "cell_type": "code",
   "execution_count": 88,
   "metadata": {},
   "outputs": [],
   "source": [
    "# Total number of shots to use.\n",
    "shots = 10000\n",
    "\n",
    "# Test at multiple depths.\n",
    "depths = [10, 30, 50, 100]"
   ]
  },
  {
   "cell_type": "code",
   "execution_count": 89,
   "metadata": {},
   "outputs": [
    {
     "name": "stdout",
     "output_type": "stream",
     "text": [
      "          ┌───┐┌───┐     ┌───┐┌───┐┌───┐┌───┐┌───┐┌───┐┌───┐┌───┐┌───┐┌───┐»\n",
      "q_0: ──■──┤ X ├┤ X ├─────┤ X ├┤ I ├┤ I ├┤ I ├┤ I ├┤ I ├┤ I ├┤ I ├┤ I ├┤ I ├»\n",
      "     ┌─┴─┐└───┘└─┬─┘┌───┐└─┬─┘├───┤├───┤├───┤├───┤├───┤├───┤├───┤└┬─┬┘└───┘»\n",
      "q_1: ┤ X ├───────■──┤ H ├──■──┤ I ├┤ I ├┤ I ├┤ I ├┤ I ├┤ I ├┤ I ├─┤M├──────»\n",
      "     └───┘          └───┘     └───┘└───┘└───┘└───┘└───┘└───┘└───┘ └╥┘      »\n",
      "c: 2/══════════════════════════════════════════════════════════════╩═══════»\n",
      "                                                                   1       »\n",
      "«     ┌───┐┌───┐┌───┐┌───┐┌─┐\n",
      "«q_0: ┤ I ├┤ I ├┤ I ├┤ I ├┤M├\n",
      "«     └───┘└───┘└───┘└───┘└╥┘\n",
      "«q_1: ─────────────────────╫─\n",
      "«                          ║ \n",
      "«c: 2/═════════════════════╩═\n",
      "«                          0 \n"
     ]
    }
   ],
   "source": [
    "num_qubits = 2  # Number of qubits in the circuit\n",
    "num_operations = 5  # Number of initial random operations\n",
    "idle_depth = 20  # Number of idle operations to add\n",
    "circuit = create_random_circuit_with_idle_windows(num_qubits, num_operations, idle_depth)\n",
    "print(circuit)"
   ]
  },
  {
   "cell_type": "code",
   "execution_count": 90,
   "metadata": {},
   "outputs": [
    {
     "name": "stdout",
     "output_type": "stream",
     "text": [
      "          ┌───┐┌───┐     ┌───┐┌───┐┌───┐┌───┐┌───┐┌───┐┌───┐┌───┐┌───┐┌───┐»\n",
      "q_0: ──■──┤ X ├┤ X ├─────┤ X ├┤ I ├┤ I ├┤ X ├┤ I ├┤ X ├┤ I ├┤ X ├┤ I ├┤ X ├»\n",
      "     ┌─┴─┐└───┘└─┬─┘┌───┐└─┬─┘├───┤├───┤├───┤├───┤├───┤├───┤├───┤├───┤├───┤»\n",
      "q_1: ┤ X ├───────■──┤ H ├──■──┤ I ├┤ I ├┤ X ├┤ I ├┤ X ├┤ I ├┤ X ├┤ I ├┤ X ├»\n",
      "     └───┘          └───┘     └───┘└───┘└───┘└───┘└───┘└───┘└───┘└───┘└───┘»\n",
      "c: 2/══════════════════════════════════════════════════════════════════════»\n",
      "                                                                           »\n",
      "«     ┌───┐┌───┐┌───┐┌───┐┌─┐   \n",
      "«q_0: ┤ I ├┤ X ├┤ I ├┤ X ├┤M├───\n",
      "«     ├───┤├───┤├───┤├───┤└╥┘┌─┐\n",
      "«q_1: ┤ I ├┤ X ├┤ I ├┤ X ├─╫─┤M├\n",
      "«     └───┘└───┘└───┘└───┘ ║ └╥┘\n",
      "«c: 2/═════════════════════╩══╩═\n",
      "«                          0  1 \n"
     ]
    }
   ],
   "source": [
    "ixix_circ = insert_ddd_sequences(circuit, rep_ixix_rule)\n",
    "print(ixix_circ)"
   ]
  },
  {
   "cell_type": "code",
   "execution_count": 91,
   "metadata": {},
   "outputs": [],
   "source": [
    "# define noise model for circuit and combine it with readout error\n",
    "from qiskit_aer.noise import depolarizing_error\n",
    "\n",
    "def get_combined_noise(p_read, p_circ):\n",
    "    \"\"\"Create a noise model with a bit-flip error during measurement.\"\"\"\n",
    "    error_meas = pauli_error([('X', p_read), ('I', 1 - p_read)])\n",
    "    noise_model = NoiseModel()\n",
    "    noise_model.add_all_qubit_quantum_error(error_meas, \"measure\")\n",
    "\n",
    "    # Single-qubit depolarizing error\n",
    "    error_depolarizing_1q = depolarizing_error(p_circ, 1)\n",
    "    noise_model.add_all_qubit_quantum_error(error_depolarizing_1q, ['u1', 'u2', 'u3'])\n",
    "    \n",
    "    # Two-qubit depolarizing error\n",
    "    error_depolarizing_2q = depolarizing_error(p_circ, 2)\n",
    "    noise_model.add_all_qubit_quantum_error(error_depolarizing_2q, 'cx')\n",
    "\n",
    "    return noise_model"
   ]
  },
  {
   "cell_type": "code",
   "execution_count": 92,
   "metadata": {},
   "outputs": [
    {
     "name": "stdout",
     "output_type": "stream",
     "text": [
      "{'11': 0.09569, '00': 0.09344, '10': 0.4047, '01': 0.40617}\n"
     ]
    }
   ],
   "source": [
    "shots = 100000\n",
    "noise = get_combined_noise(0.1,0.01)\n",
    "simulator = AerSimulator(noise_model=noise)\n",
    "counts = simulator.run(ixix_circ,shots=shots).result().get_counts(ixix_circ)\n",
    "# Normalize the counts to get probabilities\n",
    "probabilities = {k: v / shots for k, v in counts.items()}\n",
    "\n",
    "print(probabilities)"
   ]
  },
  {
   "cell_type": "code",
   "execution_count": 93,
   "metadata": {},
   "outputs": [
    {
     "name": "stdout",
     "output_type": "stream",
     "text": [
      "Empirical probabilities: [0.093440 0.406170 0.404700 0.095690]\n",
      "Mitigated quasi-probabilities: [0.006399 0.493445 0.491527 0.008052]\n",
      "Closest positive probabilities: [0.006536 0.493603 0.491677 0.008184]\n"
     ]
    }
   ],
   "source": [
    "# REM PART\n",
    "# Sort the probabilities dictionary by its keys (binary strings converted to integers)\n",
    "print(\"Empirical probabilities:\", (probability_vector:=np.array([probability for state, probability in sorted(probabilities.items(), key=lambda x: int(x[0], 2))])))\n",
    "\n",
    "print(\"Mitigated quasi-probabilities:\", (mitigated_probabilities := np.dot(mitigator, probability_vector)))\n",
    "\n",
    "print(\"Closest positive probabilities:\", (closest_probabilities := closest_positive_distribution(mitigated_probabilities)))"
   ]
  },
  {
   "cell_type": "code",
   "execution_count": null,
   "metadata": {},
   "outputs": [],
   "source": [
    "# TO DO: combine error models previously defined, so that no mistakes are made (namely, the readout error flipping probability needs to be the same\n",
    "# when creating the mitigator and when running the circuit with general noise)"
   ]
  }
 ],
 "metadata": {
  "kernelspec": {
   "display_name": "Python 3",
   "language": "python",
   "name": "python3"
  },
  "language_info": {
   "codemirror_mode": {
    "name": "ipython",
    "version": 3
   },
   "file_extension": ".py",
   "mimetype": "text/x-python",
   "name": "python",
   "nbconvert_exporter": "python",
   "pygments_lexer": "ipython3",
   "version": "3.11.9"
  }
 },
 "nbformat": 4,
 "nbformat_minor": 2
}
