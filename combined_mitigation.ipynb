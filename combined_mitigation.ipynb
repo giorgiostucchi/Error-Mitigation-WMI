{
 "cells": [
  {
   "cell_type": "markdown",
   "metadata": {},
   "source": [
    "# Combined Mitigation"
   ]
  },
  {
   "cell_type": "code",
   "execution_count": 21,
   "metadata": {},
   "outputs": [],
   "source": [
    "from my_rem import *\n",
    "from my_ddd import *\n",
    "from typing import List, Callable\n",
    "import numpy as np\n",
    "from matplotlib import pyplot as plt\n",
    "\n",
    "import qiskit\n",
    "from qiskit_aer import AerSimulator\n",
    "from qiskit_ibm_runtime import QiskitRuntimeService\n",
    "\n",
    "from mitiq.interface.mitiq_qiskit import to_qiskit\n",
    "from mitiq import ddd, QPROGRAM\n",
    "from mitiq.ddd import insert_ddd_sequences"
   ]
  },
  {
   "cell_type": "code",
   "execution_count": 34,
   "metadata": {},
   "outputs": [],
   "source": [
    "#Define Errors we want to mitigate\n",
    "\n",
    "from qiskit_aer.noise import depolarizing_error, QuantumError\n",
    "\n",
    "# Define the probability values\n",
    "p_readout_flip = 0.1\n",
    "p_circuit_depolarizing = 0.1\n",
    "\n",
    "# Measurement error (bit-flip error)\n",
    "error_meas = pauli_error([('X', p_readout_flip), ('I', 1 - p_readout_flip)])\n",
    "\n",
    "# Single-qubit depolarizing error\n",
    "error_depolarizing_1q = depolarizing_error(p_circuit_depolarizing, 1)\n",
    "\n",
    "# Two-qubit depolarizing error\n",
    "error_depolarizing_2q = depolarizing_error(p_circuit_depolarizing, 2)"
   ]
  },
  {
   "cell_type": "code",
   "execution_count": 35,
   "metadata": {},
   "outputs": [],
   "source": [
    "# Create Combined Model of the Noises affecting the circuit (Should this be generalized to add arbitrary many sources of error of arbitrary type ??? Is it needed?)\n",
    "# If you end up generalizing, move to a library. Otherwise keep here for clarity of usage\n",
    "\n",
    "def get_combined_noise(error_meas: QuantumError, error_depolarizing_1q: QuantumError, error_depolarizing_2q: QuantumError):\n",
    "    \"\"\"Create a noise model with specified errors during measurement and operations.\"\"\"\n",
    "    \n",
    "    noise_model = NoiseModel()\n",
    "    \n",
    "    # Add measurement error to all qubits\n",
    "    noise_model.add_all_qubit_quantum_error(error_meas, \"measure\")\n",
    "    \n",
    "    # Add single-qubit depolarizing error to all single-qubit gates\n",
    "    noise_model.add_all_qubit_quantum_error(error_depolarizing_1q, ['u1', 'u2', 'u3'])\n",
    "    \n",
    "    # Add two-qubit depolarizing error to all two-qubit gates\n",
    "    noise_model.add_all_qubit_quantum_error(error_depolarizing_2q, 'cx')\n",
    "    \n",
    "    return noise_model\n"
   ]
  },
  {
   "cell_type": "code",
   "execution_count": 36,
   "metadata": {},
   "outputs": [
    {
     "name": "stdout",
     "output_type": "stream",
     "text": [
      "0: ───I───I───X───I───X───I───X───I───X───I───\n",
      "0: ───X───X───X───X───X───X───X───X───X───X───\n",
      "0: ───I───I───I───X───I───I───X───I───I───I───\n"
     ]
    }
   ],
   "source": [
    "import cirq\n",
    "\n",
    "# Importing the cirq module\n",
    "\n",
    "# Defining a function for the repeated ixix rule\n",
    "def rep_ixix_rule(window_length: int) -> Callable[[int], QPROGRAM]:\n",
    "    return ddd.rules.repeated_rule(\n",
    "        window_length, [cirq.I, cirq.X, cirq.I, cirq.X]\n",
    "    )\n",
    "\n",
    "# Defining a function for the repeated xx rule\n",
    "def rep_xx_rule(window_length: int) -> Callable[[int], QPROGRAM]:\n",
    "    return ddd.rules.repeated_rule(window_length, [cirq.X, cirq.X])\n",
    "\n",
    "# Set DDD sequences to test.\n",
    "rules = [rep_ixix_rule, rep_xx_rule, ddd.rules.xx]\n",
    "\n",
    "# Test the sequence insertion\n",
    "for rule in rules:\n",
    "    print(rule(10))"
   ]
  },
  {
   "cell_type": "code",
   "execution_count": 37,
   "id": "13c6c9e0",
   "metadata": {},
   "outputs": [],
   "source": [
    "def run_and_mitigate(circuit, noise: NoiseModel=None, reps=1000, mitigator=False, ddd=False, n_qubits=None, shots=None, ddd_rule=None, output=False):\n",
    "    \"\"\"\n",
    "    High-level function to apply error mitigation and/or dynamical decoupling.\n",
    "\n",
    "    Parameters:\n",
    "    - circuit: The quantum circuit to modify.\n",
    "    - noise: The noise model to apply to the circuit.\n",
    "    - reps: Number of repetitions to run the circuit.\n",
    "    - mitigator: Boolean flag to apply error mitigation.\n",
    "    - ddd: Boolean flag to apply DDD rules.\n",
    "    - n_qubits: Number of qubits for the mitigator (only needed if mitigator is True).\n",
    "    - shots: Number of shots for the mitigator (only needed if mitigator is True).\n",
    "    - ddd_rule: The rule to apply for DDD (only needed if ddd is True).\n",
    "    - output: Boolean flag to control the print statements.\n",
    "    \"\"\"\n",
    "    new_circuit = circuit.copy() # To leave circuit invariant after execution\n",
    "\n",
    "    if mitigator:\n",
    "        if n_qubits is None or shots is None:\n",
    "            raise ValueError(\"n_qubits and shots must be specified if mitigator is True\")\n",
    "        \n",
    "        if output:\n",
    "            print(\"Computing Mitigator ... \\n\")\n",
    "        # Assuming get_readout_noise and generate_mitigator are defined elsewhere in the notebook\n",
    "        readout_noise = get_readout_noise(error_meas)\n",
    "        mitigator_instance = generate_mitigator(n_qubits, shots, readout_noise, False)\n",
    "    \n",
    "    if ddd:\n",
    "        if ddd_rule is None:\n",
    "            raise ValueError(\"ddd_rule must be specified if ddd is True\")\n",
    "        \n",
    "        if output:\n",
    "            print(\"Original circuit\")\n",
    "            print(circuit)\n",
    "            print(\"Inserting DDD sequences ... \\n\")\n",
    "        new_circuit = insert_ddd_sequences(circuit, ddd_rule)\n",
    "        if output:\n",
    "            print(new_circuit)\n",
    "\n",
    "    if output:\n",
    "        print(f\"Running the circuit ... for {reps} repetitions \\n\")\n",
    "    simulator = AerSimulator(noise_model=noise)\n",
    "    counts = simulator.run(new_circuit, shots=reps).result().get_counts(new_circuit)\n",
    "    \n",
    "    # Normalize the counts to get probabilities\n",
    "    num_bit_strings = 2 ** n_qubits\n",
    "    bit_strings = [format(i, '0{}b'.format(n_qubits)) for i in range(num_bit_strings)]\n",
    "    \n",
    "    # Initialize probabilities dictionary with all bit strings and initial probability 0.0\n",
    "    probabilities = {bit_string: 0.0 for bit_string in bit_strings}\n",
    "    \n",
    "    # Update probabilities based on counts\n",
    "    for k, v in counts.items():\n",
    "        probabilities[k] = v / reps\n",
    "\n",
    "    if mitigator:\n",
    "        probability_vector = np.array([probability for state, probability in sorted(probabilities.items(), key=lambda x: int(x[0], 2))])\n",
    "        mitigated_probabilities = np.dot(mitigator_instance, probability_vector)\n",
    "        closest_probabilities = closest_positive_distribution(mitigated_probabilities)\n",
    "        if output:\n",
    "            print(\"Empirical probabilities:\", probability_vector)\n",
    "            print(\"Mitigated quasi-probabilities:\", mitigated_probabilities)\n",
    "            print(\"Closest positive probabilities:\", closest_probabilities)\n",
    "        probabilities = {state: prob for state, prob in zip(sorted(probabilities, key=lambda x: int(x, 2)), closest_probabilities)}\n",
    "    \n",
    "    if output:\n",
    "        print(f\"Final Probabilities={probabilities}\")\n",
    "        print(\"\\n \\n\")\n",
    "    \n",
    "    return probabilities\n"
   ]
  },
  {
   "cell_type": "markdown",
   "metadata": {},
   "source": [
    "# Example Usage"
   ]
  },
  {
   "cell_type": "code",
   "execution_count": 46,
   "metadata": {},
   "outputs": [],
   "source": [
    "# Initialize a random circuit\n",
    "\n",
    "num_qubits = 2  # Number of qubits in the circuit\n",
    "num_operations = 5  # Number of initial random operations\n",
    "idle_depth = 20  # Number of idle operations to add\n",
    "circuit = create_random_circuit_with_idle_windows(num_qubits, num_operations, idle_depth)"
   ]
  },
  {
   "cell_type": "code",
   "execution_count": 47,
   "metadata": {},
   "outputs": [
    {
     "name": "stdout",
     "output_type": "stream",
     "text": [
      "{'00': 0.5005503127415621, '01': 0.0, '10': 0.4994496872584378, '11': 0.0}\n"
     ]
    }
   ],
   "source": [
    "# Define parameters for the high-level function\n",
    "reps = 100000\n",
    "noise = get_combined_noise(error_meas,error_depolarizing_1q, error_depolarizing_2q)\n",
    "mitigator_flag = True\n",
    "ddd_flag = True\n",
    "n_qubits = 2\n",
    "shots = 10000\n",
    "ddd_sequence = ddd.rules.xx  # Use appropriate DDD sequence from mitiq\n",
    "\n",
    "# Apply the high-level function\n",
    "results = run_and_mitigate(\n",
    "    circuit,\n",
    "    noise = None,\n",
    "    reps = reps,\n",
    "    mitigator=mitigator_flag,\n",
    "    ddd=ddd_flag,\n",
    "    n_qubits=n_qubits,\n",
    "    shots=shots,\n",
    "    ddd_rule=ddd_sequence,\n",
    "    output=False\n",
    ")\n",
    "\n",
    "print(results)"
   ]
  },
  {
   "cell_type": "code",
   "execution_count": 48,
   "metadata": {},
   "outputs": [],
   "source": [
    "import numpy as np\n",
    "from matplotlib import pyplot as plt\n",
    "\n",
    "def run_cases(circuit, noise: NoiseModel=None, reps=1000, n_qubits=None, shots=None, ddd_rule=None):\n",
    "    \"\"\"\n",
    "    Runs the `run_and_mitigate` function for five cases and plots the results in a merged histogram.\n",
    "    \n",
    "    Parameters:\n",
    "    - circuit: The quantum circuit to modify.\n",
    "    - noise: The noise model to apply to the circuit.\n",
    "    - reps: Number of repetitions to run the circuit.\n",
    "    - n_qubits: Number of qubits for the mitigator.\n",
    "    - shots: Number of shots for the mitigator.\n",
    "    - ddd_rule: The rule to apply for DDD.\n",
    "    \"\"\"\n",
    "    \n",
    "    # Case 1: No noise, no mitigation\n",
    "    print(\"Running with no noise, no mitigation ... \\n\")\n",
    "    result_no_noise_no_mit = run_and_mitigate(circuit, noise=None, reps=reps, mitigator=False, ddd=False, n_qubits=n_qubits, shots=shots, ddd_rule=ddd_rule)\n",
    "    \n",
    "    # Case 2: Noise, no mitigation\n",
    "    print(\"Running with noise, no mitigation ... \\n\")\n",
    "    result_noise_no_mit = run_and_mitigate(circuit, noise=noise, reps=reps, mitigator=False, ddd=False, n_qubits=n_qubits, shots=shots, ddd_rule=ddd_rule)\n",
    "    \n",
    "    # Case 3: Noise, mitigation True, DDD False\n",
    "    print(\"Running with noise, mitigation True, DDD False  \\n\")\n",
    "    result_noise_rem_no_ddd = run_and_mitigate(circuit, noise=noise, reps=reps, mitigator=True, ddd=False, n_qubits=n_qubits, shots=shots, ddd_rule=ddd_rule)\n",
    "    \n",
    "    # Case 4: Noise, mitigation False, DDD True\n",
    "    print(\"Running with noise, mitigation False, DDD True  \\n\")\n",
    "    result_noise_no_rem_ddd = run_and_mitigate(circuit, noise=noise, reps=reps, mitigator=False, ddd=True, n_qubits=n_qubits, shots=shots, ddd_rule=ddd_rule)\n",
    "    \n",
    "    # Case 5: Noise, mitigation True, DDD True\n",
    "    print(\"Running with noise, mitigation True, DDD True  \\n\")\n",
    "    result_noise_rem_ddd = run_and_mitigate(circuit, noise=noise, reps=reps, mitigator=True, ddd=True, n_qubits=n_qubits, shots=shots, ddd_rule=ddd_rule)\n",
    "    \n",
    "    return result_no_noise_no_mit, result_noise_no_mit, result_noise_rem_no_ddd, result_noise_no_rem_ddd, result_noise_rem_ddd\n"
   ]
  },
  {
   "cell_type": "code",
   "execution_count": 49,
   "metadata": {},
   "outputs": [
    {
     "name": "stdout",
     "output_type": "stream",
     "text": [
      "Running with no noise, no mitigation ... \n",
      "\n",
      "Running with noise, no mitigation ... \n",
      "\n",
      "Running with noise, mitigation True, DDD False  \n",
      "\n",
      "Running with noise, mitigation False, DDD True  \n",
      "\n",
      "Running with noise, mitigation True, DDD True  \n",
      "\n",
      "[{'00': 0.498, '01': 0.0, '10': 0.502, '11': 0.0}, {'00': 0.402, '01': 0.086, '10': 0.421, '11': 0.091}, {'00': 0.4543816609267504, '01': 0.054799190172246125, '10': 0.4341300077993564, '11': 0.05668914110164709}, {'00': 0.413, '01': 0.086, '10': 0.424, '11': 0.077}, {'00': 0.4574229287142772, '01': 0.0191720381951397, '10': 0.4802207289211288, '11': 0.04318430416945423}]\n"
     ]
    }
   ],
   "source": [
    "# Assuming you have already defined the circuit, noise model, and other necessary parameters\n",
    "result_no_noise_no_mit, result_noise_no_mit, result_noise_rem_no_ddd, result_noise_no_rem_ddd, result_noise_rem_ddd = run_cases(circuit, noise=noise, reps=1000, n_qubits=2, shots=10000, ddd_rule=ddd.rules.xx)\n",
    "results_list = [result_no_noise_no_mit, result_noise_no_mit, result_noise_rem_no_ddd, result_noise_no_rem_ddd, result_noise_rem_ddd]\n",
    "print(results_list)"
   ]
  },
  {
   "cell_type": "code",
   "execution_count": 50,
   "metadata": {},
   "outputs": [
    {
     "data": {
      "text/plain": [
       "Text(0, 0.5, 'Probabilities')"
      ]
     },
     "execution_count": 50,
     "metadata": {},
     "output_type": "execute_result"
    },
    {
     "data": {
      "image/png": "[encoded data removed]",
      "text/plain": [
       "<Figure size 640x480 with 1 Axes>"
      ]
     },
     "metadata": {},
     "output_type": "display_data"
    }
   ],
   "source": [
    "from qiskit.visualization import plot_histogram\n",
    "import matplotlib.pyplot as plt\n",
    "\n",
    "\n",
    "labels = [\n",
    "    'No Noise, No Mitigation', 'Noise, No Mitigation',\n",
    "    'Noise, REM on, DDD off', 'Noise, REM off, DDD on', 'Noise, REM on, DDD on'\n",
    "]\n",
    "\n",
    "\n",
    "# Create a figure and a set of subplots\n",
    "fig, ax = plt.subplots()\n",
    "\n",
    "# Now, use the ax parameter to specify where to plot the histogram\n",
    "plot_histogram(results_list, legend=labels, bar_labels=False, ax=ax)\n",
    "ax.set_ylabel('Probabilities')"
   ]
  },
  {
   "cell_type": "markdown",
   "metadata": {},
   "source": [
    "# Study the Performance based on distance"
   ]
  },
  {
   "cell_type": "code",
   "execution_count": 51,
   "metadata": {},
   "outputs": [],
   "source": [
    "import numpy as np\n",
    "from typing import Dict\n",
    "\n",
    "def distance(prob_dist_1: Dict[str, float], prob_dist_2: Dict[str, float]) -> np.float64:\n",
    "    \"\"\"Calculate the distance between two probability distributions given as dictionaries.\"\"\"\n",
    "    def extract_probabilities(result: Dict[str, float]) -> np.ndarray:\n",
    "        \"\"\"Extract the probabilities from the dictionary and convert to a NumPy array.\"\"\"\n",
    "        return np.array([result['00'], result['01'], result['10'], result['11']])\n",
    "    \n",
    "    prob_array_1 = extract_probabilities(prob_dist_1)\n",
    "    prob_array_2 = extract_probabilities(prob_dist_2)\n",
    "    \n",
    "    return np.linalg.norm(prob_array_1 - prob_array_2)  # Calculate the Euclidean distance"
   ]
  },
  {
   "cell_type": "code",
   "execution_count": 52,
   "metadata": {},
   "outputs": [
    {
     "name": "stdout",
     "output_type": "stream",
     "text": [
      "Running experiment 0... \n",
      "\n",
      "Running with no noise, no mitigation ... \n",
      "\n",
      "Running with noise, no mitigation ... \n",
      "\n",
      "Running with noise, mitigation True, DDD False  \n",
      "\n",
      "Running with noise, mitigation False, DDD True  \n",
      "\n",
      "Running with noise, mitigation True, DDD True  \n",
      "\n",
      "Running experiment 1... \n",
      "\n",
      "Running with no noise, no mitigation ... \n",
      "\n",
      "Running with noise, no mitigation ... \n",
      "\n",
      "Running with noise, mitigation True, DDD False  \n",
      "\n",
      "Running with noise, mitigation False, DDD True  \n",
      "\n",
      "Running with noise, mitigation True, DDD True  \n",
      "\n",
      "Running experiment 2... \n",
      "\n",
      "Running with no noise, no mitigation ... \n",
      "\n",
      "Running with noise, no mitigation ... \n",
      "\n",
      "Running with noise, mitigation True, DDD False  \n",
      "\n",
      "Running with noise, mitigation False, DDD True  \n",
      "\n",
      "Running with noise, mitigation True, DDD True  \n",
      "\n",
      "Running experiment 3... \n",
      "\n",
      "Running with no noise, no mitigation ... \n",
      "\n",
      "Running with noise, no mitigation ... \n",
      "\n",
      "Running with noise, mitigation True, DDD False  \n",
      "\n",
      "Running with noise, mitigation False, DDD True  \n",
      "\n",
      "Running with noise, mitigation True, DDD True  \n",
      "\n",
      "Running experiment 4... \n",
      "\n",
      "Running with no noise, no mitigation ... \n",
      "\n",
      "Running with noise, no mitigation ... \n",
      "\n",
      "Running with noise, mitigation True, DDD False  \n",
      "\n",
      "Running with noise, mitigation False, DDD True  \n",
      "\n",
      "Running with noise, mitigation True, DDD True  \n",
      "\n",
      "Running experiment 5... \n",
      "\n",
      "Running with no noise, no mitigation ... \n",
      "\n",
      "Running with noise, no mitigation ... \n",
      "\n",
      "Running with noise, mitigation True, DDD False  \n",
      "\n",
      "Running with noise, mitigation False, DDD True  \n",
      "\n",
      "Running with noise, mitigation True, DDD True  \n",
      "\n",
      "Running experiment 6... \n",
      "\n",
      "Running with no noise, no mitigation ... \n",
      "\n",
      "Running with noise, no mitigation ... \n",
      "\n",
      "Running with noise, mitigation True, DDD False  \n",
      "\n",
      "Running with noise, mitigation False, DDD True  \n",
      "\n",
      "Running with noise, mitigation True, DDD True  \n",
      "\n",
      "Running experiment 7... \n",
      "\n",
      "Running with no noise, no mitigation ... \n",
      "\n",
      "Running with noise, no mitigation ... \n",
      "\n",
      "Running with noise, mitigation True, DDD False  \n",
      "\n",
      "Running with noise, mitigation False, DDD True  \n",
      "\n",
      "Running with noise, mitigation True, DDD True  \n",
      "\n",
      "Running experiment 8... \n",
      "\n",
      "Running with no noise, no mitigation ... \n",
      "\n",
      "Running with noise, no mitigation ... \n",
      "\n",
      "Running with noise, mitigation True, DDD False  \n",
      "\n",
      "Running with noise, mitigation False, DDD True  \n",
      "\n",
      "Running with noise, mitigation True, DDD True  \n",
      "\n",
      "Running experiment 9... \n",
      "\n",
      "Running with no noise, no mitigation ... \n",
      "\n",
      "Running with noise, no mitigation ... \n",
      "\n",
      "Running with noise, mitigation True, DDD False  \n",
      "\n",
      "Running with noise, mitigation False, DDD True  \n",
      "\n",
      "Running with noise, mitigation True, DDD True  \n",
      "\n"
     ]
    }
   ],
   "source": [
    "\n",
    "def run_experiment(n: int, num_qubits: int, num_operations: int, idle_depth: int, noise, reps: int, shots: int, ddd_rule) -> List[np.float64]:\n",
    "    avg_distances = np.zeros(4)\n",
    "\n",
    "    for _ in range(n):\n",
    "        print(f\"Running experiment {_}... \\n\")\n",
    "        circuit = create_random_circuit_with_idle_windows(num_qubits, num_operations, idle_depth)\n",
    "        result_no_noise_no_mit, result_noise_no_mit, result_noise_rem_no_ddd, result_noise_no_rem_ddd, result_noise_rem_ddd = run_cases(\n",
    "            circuit, noise=noise, reps=reps, n_qubits=num_qubits, shots=shots, ddd_rule=ddd_rule\n",
    "        )\n",
    "\n",
    "        distance_no_mit = distance(result_no_noise_no_mit, result_noise_no_mit)\n",
    "        distance_rem_no_ddd = distance(result_no_noise_no_mit, result_noise_rem_no_ddd)\n",
    "        distance_no_rem_ddd = distance(result_no_noise_no_mit, result_noise_no_rem_ddd)\n",
    "        distance_rem_ddd = distance(result_no_noise_no_mit, result_noise_rem_ddd)\n",
    "\n",
    "        avg_distances[0] += distance_no_mit\n",
    "        avg_distances[1] += distance_rem_no_ddd\n",
    "        avg_distances[2] += distance_no_rem_ddd\n",
    "        avg_distances[3] += distance_rem_ddd\n",
    "\n",
    "    avg_distances /= n\n",
    "\n",
    "    return avg_distances\n",
    "\n",
    "# Parameters\n",
    "n = 10  # Number of repetitions\n",
    "num_qubits = 2  # Number of qubits in the circuit\n",
    "num_operations = 5  # Number of initial random operations\n",
    "idle_depth = 20  # Number of idle operations to add\n",
    "noise = noise  # Define your noise model here\n",
    "reps = 1000\n",
    "shots = 10000\n",
    "ddd_rule = ddd.rules.xx  # Define your DDD rule here\n",
    "\n",
    "# Run experiment\n",
    "avg_distances = run_experiment(n, num_qubits, num_operations, idle_depth, noise, reps, shots, ddd_rule)"
   ]
  },
  {
   "cell_type": "code",
   "execution_count": 53,
   "metadata": {},
   "outputs": [
    {
     "name": "stdout",
     "output_type": "stream",
     "text": [
      "Average distance to result_noise_no_mit from ideal : 0.19809193449668233\n",
      "Average distance to result_noise_rem_no_ddd from ideal : 0.0806677935407365\n",
      "Average distance to result_noise_no_rem_ddd from ideal : 0.19550934206730006\n",
      "Average distance to result_noise_rem_ddd from ideal : 0.07649748614740524\n"
     ]
    }
   ],
   "source": [
    "# Print average distances\n",
    "print(\"Average distance to result_noise_no_mit from ideal :\", avg_distances[0])\n",
    "print(\"Average distance to result_noise_rem_no_ddd from ideal :\", avg_distances[1])\n",
    "print(\"Average distance to result_noise_no_rem_ddd from ideal :\", avg_distances[2])\n",
    "print(\"Average distance to result_noise_rem_ddd from ideal :\", avg_distances[3])"
   ]
  },
  {
   "cell_type": "markdown",
   "metadata": {},
   "source": [
    "Adding the DDD doesn't seem to make much a difference. The rule probably needs to be chosen according to the error type (look into it). And also how important is the corresponding error rate."
   ]
  },
  {
   "cell_type": "code",
   "execution_count": 43,
   "metadata": {},
   "outputs": [],
   "source": []
  },
  {
   "cell_type": "code",
   "execution_count": null,
   "metadata": {},
   "outputs": [],
   "source": []
  }
 ],
 "metadata": {
  "kernelspec": {
   "display_name": "Python 3",
   "language": "python",
   "name": "python3"
  },
  "language_info": {
   "codemirror_mode": {
    "name": "ipython",
    "version": 3
   },
   "file_extension": ".py",
   "mimetype": "text/x-python",
   "name": "python",
   "nbconvert_exporter": "python",
   "pygments_lexer": "ipython3",
   "version": "3.11.9"
  }
 },
 "nbformat": 4,
 "nbformat_minor": 2
}
